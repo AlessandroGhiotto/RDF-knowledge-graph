{
  "cells": [
    {
      "cell_type": "code",
      "execution_count": null,
      "id": "a64cbc05-9988-4261-93c5-4af7ce59aee1",
      "metadata": {
        "id": "a64cbc05-9988-4261-93c5-4af7ce59aee1",
        "scrolled": false
      },
      "outputs": [],
      "source": [
        "# requirements\n",
        "!pip install -q rdflib sparqlwrapper owlrl gdown pandas wikipedia-api\n",
        "!pip install --upgrade wikipedia-api\n",
        "!apt install graphviz libgraphviz-dev > /dev/null\n",
        "!pip install --quiet rdflib networkx pygraphviz\n",
        "!mkdir -p images\n",
        "!pip freeze > requirements.txt"
      ]
    },
    {
      "cell_type": "code",
      "execution_count": null,
      "id": "a247a8de",
      "metadata": {
        "id": "a247a8de"
      },
      "outputs": [],
      "source": [
        "conda install --channel conda-forge pygraphviz"
      ]
    },
    {
      "cell_type": "code",
      "execution_count": null,
      "id": "2fa54075-b30d-4e94-9d41-5111cb90aaa3",
      "metadata": {
        "id": "2fa54075-b30d-4e94-9d41-5111cb90aaa3"
      },
      "outputs": [],
      "source": [
        "import gdown\n",
        "import os\n",
        "import pandas as pd\n",
        "from rdflib import Graph, URIRef, BNode, Literal, FOAF, RDF, RDFS, OWL, XSD, Namespace\n",
        "from SPARQLWrapper import SPARQLWrapper\n",
        "\n",
        "from datetime import datetime\n",
        "import numpy as np\n",
        "import math\n",
        "import wikipediaapi\n",
        "import owlrl\n",
        "from rdflib.extras.external_graph_libs import rdflib_to_networkx_multidigraph, rdflib_to_networkx_digraph\n",
        "import networkx as nx\n",
        "import matplotlib.pyplot as plt\n",
        "from IPython.display import Image"
      ]
    },
    {
      "cell_type": "code",
      "execution_count": null,
      "id": "c86133b5-6fe3-4223-90e8-7349d8d4f6c8",
      "metadata": {
        "id": "c86133b5-6fe3-4223-90e8-7349d8d4f6c8"
      },
      "outputs": [],
      "source": [
        "# create directory for data\n",
        "if not os.path.exists(\"./data/\"):\n",
        "    os.mkdir(\"./data/\")"
      ]
    },
    {
      "cell_type": "code",
      "execution_count": null,
      "id": "21a73c00-3fbe-4a50-9f5b-f8d6e077bb67",
      "metadata": {
        "colab": {
          "base_uri": "https://localhost:8080/",
          "height": 36
        },
        "id": "21a73c00-3fbe-4a50-9f5b-f8d6e077bb67",
        "outputId": "07243e9f-aad7-44ec-ecf4-e210afcb04fe"
      },
      "outputs": [
        {
          "data": {
            "text/plain": [
              "'./data/albumlist.csv'"
            ]
          },
          "execution_count": 5,
          "metadata": {},
          "output_type": "execute_result"
        }
      ],
      "source": [
        "# Download data\n",
        "gdown.download(id=\"1UILSMenvqzFMsIhV6l4ZV1opJpRQZnwC\", output=\"./data/rym_top_5000_all_time.csv\", quiet=True)\n",
        "gdown.download(id=\"1UNJ2iDX-xoWIekSA0ZwoqNOk3eAZjqrp\", output=\"./data/albumlist.csv\", quiet=True)"
      ]
    },
    {
      "cell_type": "code",
      "execution_count": null,
      "id": "yb3gB6VfgLRT",
      "metadata": {
        "id": "yb3gB6VfgLRT"
      },
      "outputs": [],
      "source": [
        "# Move the checkpoint graphs to the folder 'data'\n",
        "! mv /content/graph_01.ttl /content/data\n",
        "! mv /content/graph_02.ttl /content/data\n",
        "! mv /content/graph_03.ttl /content/data\n",
        "! mv /content/graph_04.ttl /content/data\n",
        "! mv /content/graph_05.ttl /content/data\n",
        "! mv /content/graph_06.ttl /content/data\n",
        "! mv /content/graph_07.ttl /content/data\n",
        "! mv /content/graph_08.ttl /content/data\n",
        "! mv /content/graph_09.ttl /content/data\n",
        "! mv /content/graph_10.ttl /content/data"
      ]
    },
    {
      "cell_type": "markdown",
      "id": "0715d141-bac3-4529-946e-4776452e88fe",
      "metadata": {
        "id": "0715d141-bac3-4529-946e-4776452e88fe"
      },
      "source": [
        "# **KRR Module 2 2022/23 Project**\n",
        "\n",
        "The project consists in the creation of an RDF knowledge graph starting from tabular data (two CSV files)."
      ]
    },
    {
      "cell_type": "markdown",
      "id": "64fdd5ae-67d2-4ce3-88af-6373858335e4",
      "metadata": {
        "id": "64fdd5ae-67d2-4ce3-88af-6373858335e4"
      },
      "source": [
        "## **`1. Create an RDFLib Graph from data contained in CSV files`**"
      ]
    },
    {
      "cell_type": "markdown",
      "id": "mnWNAyeFgS58",
      "metadata": {
        "id": "mnWNAyeFgS58"
      },
      "source": [
        "### 1.1 ) Load the CSV files in two pandas DataFrames and join them"
      ]
    },
    {
      "cell_type": "code",
      "execution_count": null,
      "id": "530f8ed4-604e-4489-93c5-425372ae6745",
      "metadata": {
        "colab": {
          "base_uri": "https://localhost:8080/",
          "height": 206
        },
        "id": "530f8ed4-604e-4489-93c5-425372ae6745",
        "outputId": "634d338e-d4a6-41af-fbeb-c187df0acc6a"
      },
      "outputs": [
        {
          "data": {
            "text/html": [
              "<div>\n",
              "<style scoped>\n",
              "    .dataframe tbody tr th:only-of-type {\n",
              "        vertical-align: middle;\n",
              "    }\n",
              "\n",
              "    .dataframe tbody tr th {\n",
              "        vertical-align: top;\n",
              "    }\n",
              "\n",
              "    .dataframe thead th {\n",
              "        text-align: right;\n",
              "    }\n",
              "</style>\n",
              "<table border=\"1\" class=\"dataframe\">\n",
              "  <thead>\n",
              "    <tr style=\"text-align: right;\">\n",
              "      <th></th>\n",
              "      <th>Number</th>\n",
              "      <th>Year</th>\n",
              "      <th>Album</th>\n",
              "      <th>Artist</th>\n",
              "      <th>Genre</th>\n",
              "      <th>Subgenre</th>\n",
              "    </tr>\n",
              "  </thead>\n",
              "  <tbody>\n",
              "    <tr>\n",
              "      <th>0</th>\n",
              "      <td>1</td>\n",
              "      <td>1967</td>\n",
              "      <td>Sgt. Pepper's Lonely Hearts Club Band</td>\n",
              "      <td>The Beatles</td>\n",
              "      <td>Rock</td>\n",
              "      <td>Rock &amp; Roll, Psychedelic Rock</td>\n",
              "    </tr>\n",
              "    <tr>\n",
              "      <th>1</th>\n",
              "      <td>2</td>\n",
              "      <td>1966</td>\n",
              "      <td>Pet Sounds</td>\n",
              "      <td>The Beach Boys</td>\n",
              "      <td>Rock</td>\n",
              "      <td>Pop Rock, Psychedelic Rock</td>\n",
              "    </tr>\n",
              "    <tr>\n",
              "      <th>2</th>\n",
              "      <td>3</td>\n",
              "      <td>1966</td>\n",
              "      <td>Revolver</td>\n",
              "      <td>The Beatles</td>\n",
              "      <td>Rock</td>\n",
              "      <td>Psychedelic Rock, Pop Rock</td>\n",
              "    </tr>\n",
              "    <tr>\n",
              "      <th>3</th>\n",
              "      <td>4</td>\n",
              "      <td>1965</td>\n",
              "      <td>Highway 61 Revisited</td>\n",
              "      <td>Bob Dylan</td>\n",
              "      <td>Rock</td>\n",
              "      <td>Folk Rock, Blues Rock</td>\n",
              "    </tr>\n",
              "    <tr>\n",
              "      <th>4</th>\n",
              "      <td>5</td>\n",
              "      <td>1965</td>\n",
              "      <td>Rubber Soul</td>\n",
              "      <td>The Beatles</td>\n",
              "      <td>Rock, Pop</td>\n",
              "      <td>Pop Rock</td>\n",
              "    </tr>\n",
              "  </tbody>\n",
              "</table>\n",
              "</div>"
            ],
            "text/plain": [
              "   Number  Year                                  Album          Artist  \\\n",
              "0       1  1967  Sgt. Pepper's Lonely Hearts Club Band     The Beatles   \n",
              "1       2  1966                             Pet Sounds  The Beach Boys   \n",
              "2       3  1966                               Revolver     The Beatles   \n",
              "3       4  1965                   Highway 61 Revisited       Bob Dylan   \n",
              "4       5  1965                            Rubber Soul     The Beatles   \n",
              "\n",
              "       Genre                       Subgenre  \n",
              "0       Rock  Rock & Roll, Psychedelic Rock  \n",
              "1       Rock     Pop Rock, Psychedelic Rock  \n",
              "2       Rock     Psychedelic Rock, Pop Rock  \n",
              "3       Rock          Folk Rock, Blues Rock  \n",
              "4  Rock, Pop                       Pop Rock  "
            ]
          },
          "execution_count": 7,
          "metadata": {},
          "output_type": "execute_result"
        }
      ],
      "source": [
        "df1 = pd.read_csv('data/albumlist.csv', encoding='mac_roman')\n",
        "df1.head()"
      ]
    },
    {
      "cell_type": "code",
      "execution_count": null,
      "id": "4c614dab-619c-455c-bd63-565ff79619e9",
      "metadata": {
        "colab": {
          "base_uri": "https://localhost:8080/",
          "height": 354
        },
        "id": "4c614dab-619c-455c-bd63-565ff79619e9",
        "outputId": "1bcbde9b-7e60-4f56-f87d-34d5aaac39c7"
      },
      "outputs": [
        {
          "data": {
            "text/html": [
              "<div>\n",
              "<style scoped>\n",
              "    .dataframe tbody tr th:only-of-type {\n",
              "        vertical-align: middle;\n",
              "    }\n",
              "\n",
              "    .dataframe tbody tr th {\n",
              "        vertical-align: top;\n",
              "    }\n",
              "\n",
              "    .dataframe thead th {\n",
              "        text-align: right;\n",
              "    }\n",
              "</style>\n",
              "<table border=\"1\" class=\"dataframe\">\n",
              "  <thead>\n",
              "    <tr style=\"text-align: right;\">\n",
              "      <th></th>\n",
              "      <th>Ranking</th>\n",
              "      <th>Album</th>\n",
              "      <th>Artist Name</th>\n",
              "      <th>Release Date</th>\n",
              "      <th>Genres</th>\n",
              "      <th>Descriptors</th>\n",
              "      <th>Average Rating</th>\n",
              "      <th>Number of Ratings</th>\n",
              "      <th>Number of Reviews</th>\n",
              "    </tr>\n",
              "  </thead>\n",
              "  <tbody>\n",
              "    <tr>\n",
              "      <th>0</th>\n",
              "      <td>1.0</td>\n",
              "      <td>OK Computer</td>\n",
              "      <td>Radiohead</td>\n",
              "      <td>16 June 1997</td>\n",
              "      <td>Alternative Rock, Art Rock</td>\n",
              "      <td>melancholic, anxious, futuristic, alienation, ...</td>\n",
              "      <td>4.23</td>\n",
              "      <td>70,382</td>\n",
              "      <td>1531</td>\n",
              "    </tr>\n",
              "    <tr>\n",
              "      <th>1</th>\n",
              "      <td>2.0</td>\n",
              "      <td>Wish You Were Here</td>\n",
              "      <td>Pink Floyd</td>\n",
              "      <td>12 September 1975</td>\n",
              "      <td>Progressive Rock, Art Rock</td>\n",
              "      <td>melancholic, atmospheric, progressive, male vo...</td>\n",
              "      <td>4.29</td>\n",
              "      <td>48,662</td>\n",
              "      <td>983</td>\n",
              "    </tr>\n",
              "    <tr>\n",
              "      <th>2</th>\n",
              "      <td>3.0</td>\n",
              "      <td>In the Court of the Crimson King</td>\n",
              "      <td>King Crimson</td>\n",
              "      <td>10 October 1969</td>\n",
              "      <td>Progressive Rock, Art Rock</td>\n",
              "      <td>fantasy, epic, progressive, philosophical, com...</td>\n",
              "      <td>4.30</td>\n",
              "      <td>44,943</td>\n",
              "      <td>870</td>\n",
              "    </tr>\n",
              "    <tr>\n",
              "      <th>3</th>\n",
              "      <td>4.0</td>\n",
              "      <td>Kid A</td>\n",
              "      <td>Radiohead</td>\n",
              "      <td>3 October 2000</td>\n",
              "      <td>Art Rock, Experimental Rock, Electronic</td>\n",
              "      <td>cold, melancholic, futuristic, atmospheric, an...</td>\n",
              "      <td>4.21</td>\n",
              "      <td>58,590</td>\n",
              "      <td>734</td>\n",
              "    </tr>\n",
              "    <tr>\n",
              "      <th>4</th>\n",
              "      <td>5.0</td>\n",
              "      <td>To Pimp a Butterfly</td>\n",
              "      <td>Kendrick Lamar</td>\n",
              "      <td>15 March 2015</td>\n",
              "      <td>Conscious Hip Hop, West Coast Hip Hop, Jazz Rap</td>\n",
              "      <td>political, conscious, poetic, protest, concept...</td>\n",
              "      <td>4.27</td>\n",
              "      <td>44,206</td>\n",
              "      <td>379</td>\n",
              "    </tr>\n",
              "  </tbody>\n",
              "</table>\n",
              "</div>"
            ],
            "text/plain": [
              "   Ranking                             Album     Artist Name  \\\n",
              "0      1.0                       OK Computer       Radiohead   \n",
              "1      2.0                Wish You Were Here      Pink Floyd   \n",
              "2      3.0  In the Court of the Crimson King    King Crimson   \n",
              "3      4.0                             Kid A       Radiohead   \n",
              "4      5.0               To Pimp a Butterfly  Kendrick Lamar   \n",
              "\n",
              "        Release Date                                           Genres  \\\n",
              "0       16 June 1997                       Alternative Rock, Art Rock   \n",
              "1  12 September 1975                       Progressive Rock, Art Rock   \n",
              "2    10 October 1969                       Progressive Rock, Art Rock   \n",
              "3     3 October 2000          Art Rock, Experimental Rock, Electronic   \n",
              "4      15 March 2015  Conscious Hip Hop, West Coast Hip Hop, Jazz Rap   \n",
              "\n",
              "                                         Descriptors  Average Rating  \\\n",
              "0  melancholic, anxious, futuristic, alienation, ...            4.23   \n",
              "1  melancholic, atmospheric, progressive, male vo...            4.29   \n",
              "2  fantasy, epic, progressive, philosophical, com...            4.30   \n",
              "3  cold, melancholic, futuristic, atmospheric, an...            4.21   \n",
              "4  political, conscious, poetic, protest, concept...            4.27   \n",
              "\n",
              "  Number of Ratings  Number of Reviews  \n",
              "0            70,382               1531  \n",
              "1            48,662                983  \n",
              "2            44,943                870  \n",
              "3            58,590                734  \n",
              "4            44,206                379  "
            ]
          },
          "execution_count": 8,
          "metadata": {},
          "output_type": "execute_result"
        }
      ],
      "source": [
        "df2 = pd.read_csv('data/rym_top_5000_all_time.csv')\n",
        "df2.head()"
      ]
    },
    {
      "cell_type": "code",
      "execution_count": null,
      "id": "621c566f-64b4-47a7-be9b-f4869942bfcf",
      "metadata": {
        "colab": {
          "base_uri": "https://localhost:8080/"
        },
        "id": "621c566f-64b4-47a7-be9b-f4869942bfcf",
        "outputId": "6bb02c57-3cbd-49d3-f782-5d9a24be89b6"
      },
      "outputs": [
        {
          "data": {
            "text/plain": [
              "((500, 6), (5000, 9))"
            ]
          },
          "execution_count": 9,
          "metadata": {},
          "output_type": "execute_result"
        }
      ],
      "source": [
        "df1.shape, df2.shape"
      ]
    },
    {
      "cell_type": "code",
      "execution_count": null,
      "id": "HvP9_4Y1kudm",
      "metadata": {
        "colab": {
          "base_uri": "https://localhost:8080/"
        },
        "id": "HvP9_4Y1kudm",
        "outputId": "5d5fbefd-d5f2-4c93-9bed-1531b1ee406d"
      },
      "outputs": [
        {
          "name": "stdout",
          "output_type": "stream",
          "text": [
            "All elements of df1['Album'] are unique: False \n",
            "All elements of df2['Album'] are unique: False\n"
          ]
        }
      ],
      "source": [
        "# Check if all elements in 'Album' column are unique\n",
        "is_unique_df1 = not df1['Album'].duplicated().any()\n",
        "is_unique_df2 = not df2['Album'].duplicated().any()\n",
        "\n",
        "print(f\"All elements of df1['Album'] are unique: {is_unique_df1} \\nAll elements of df2['Album'] are unique: {is_unique_df2}\")"
      ]
    },
    {
      "cell_type": "code",
      "execution_count": null,
      "id": "N0MVDutJ7Cbl",
      "metadata": {
        "colab": {
          "base_uri": "https://localhost:8080/"
        },
        "id": "N0MVDutJ7Cbl",
        "outputId": "c4d03d49-a04c-40f8-eb11-28a5b3a6505d"
      },
      "outputs": [
        {
          "name": "stdout",
          "output_type": "stream",
          "text": [
            "All elements of df1['Album'] are present in df2['Album']: False\n"
          ]
        }
      ],
      "source": [
        "# Check if all elements of df1['Album'] are present in df2['Album']\n",
        "all_present = df1['Album'].isin(df2['Album']).all()\n",
        "\n",
        "print(f\"All elements of df1['Album'] are present in df2['Album']: {all_present}\")"
      ]
    },
    {
      "cell_type": "markdown",
      "id": "rKKQ1kZlly3k",
      "metadata": {
        "id": "rKKQ1kZlly3k"
      },
      "source": [
        "The elements in the `Album` column are not unique, in both the dataframes, so if there are duplicates I can't join on the `Album` column.\n",
        "\n",
        "Since I don't have that df2 contains each album in df1, I can't apply a left or right join, but I should apply an outer join."
      ]
    },
    {
      "cell_type": "code",
      "execution_count": null,
      "id": "QrW9H1LTu3Sm",
      "metadata": {
        "colab": {
          "base_uri": "https://localhost:8080/"
        },
        "id": "QrW9H1LTu3Sm",
        "outputId": "d051b66e-4f62-462a-da49-cb5e61543f54"
      },
      "outputs": [
        {
          "name": "stdout",
          "output_type": "stream",
          "text": [
            "All pairs of elements df1['Album', 'Artist'] are unique: True \n",
            "All pairs of elements df2['Album', 'Artist Name'] are unique: False\n"
          ]
        }
      ],
      "source": [
        "# Check if all pairs of elements from 'Name' and 'Age' columns are unique\n",
        "is_unique_df1 = not df1.duplicated(subset=['Album', 'Artist']).any()\n",
        "is_unique_df2 = not df2.duplicated(subset=['Album', 'Artist Name']).any()\n",
        "\n",
        "print(f\"All pairs of elements df1['Album', 'Artist'] are unique: {is_unique_df1} \\nAll pairs of elements df2['Album', 'Artist Name'] are unique: {is_unique_df2}\")"
      ]
    },
    {
      "cell_type": "code",
      "execution_count": null,
      "id": "sonunO6cGfQy",
      "metadata": {
        "colab": {
          "base_uri": "https://localhost:8080/"
        },
        "id": "sonunO6cGfQy",
        "outputId": "94a58649-2578-4042-fc1d-d5896733f0bf"
      },
      "outputs": [
        {
          "data": {
            "text/plain": [
              "(23, 9)"
            ]
          },
          "execution_count": 13,
          "metadata": {},
          "output_type": "execute_result"
        }
      ],
      "source": [
        "# DataFrame with the elements that have a duplicated pair df2['Album', 'Artist Name']\n",
        "duplicated_pairs_df2 = df2[df2.duplicated(subset=['Album', 'Artist Name'], keep=False)]\n",
        "\n",
        "duplicated_pairs_df2.shape"
      ]
    },
    {
      "cell_type": "code",
      "execution_count": null,
      "id": "PybH5A1OwAH3",
      "metadata": {
        "colab": {
          "base_uri": "https://localhost:8080/"
        },
        "id": "PybH5A1OwAH3",
        "outputId": "2b4d6dd6-ed4e-4603-d23b-b85942b722c9"
      },
      "outputs": [
        {
          "name": "stdout",
          "output_type": "stream",
          "text": [
            "All pairs of elements df2['Album', 'Artist Name'] that are not unique, are not present in df1.\n"
          ]
        }
      ],
      "source": [
        "# Find the common pairs between df1 and duplicated_pairs_df2\n",
        "# (All pairs of elements ['Album', 'Artist Name'] in df2 that are not unique, that we have also in df1)\n",
        "common_pairs = df1.merge(duplicated_pairs_df2, left_on=['Album', 'Artist'], right_on=['Album', 'Artist Name'])\n",
        "\n",
        "if common_pairs.empty:\n",
        "  print(\"All pairs of elements df2['Album', 'Artist Name'] that are not unique, are not present in df1.\")"
      ]
    },
    {
      "cell_type": "markdown",
      "id": "bkmOYY5IFh77",
      "metadata": {
        "id": "bkmOYY5IFh77"
      },
      "source": [
        "After some further analysis, I know that in df2 I have some row that have the same pair `['Album', 'Artist Name']`; but fortunately none of this pairs appear in any row of df1.\n",
        "\n",
        "Now the last step that remains is to find a way to solve this issue with the duplicated elements in df2, so that at the end I can merge the two DataFrames in the best way possible.\n",
        "\n",
        "A possible way is to assign a general name, like `Album{N}`, so that I can create a new index based on the couple of columns `['Album', 'Artist Name']`, that after our changes doesn't have any duplicate."
      ]
    },
    {
      "cell_type": "code",
      "execution_count": null,
      "id": "ZREtmg7kUlPv",
      "metadata": {
        "id": "ZREtmg7kUlPv"
      },
      "outputs": [],
      "source": [
        "# In \"duplicated_pairs_df2\" I have the elements that have a duplicated pair df2['Album', 'Artist Name']\n",
        "# duplicated_pairs_df2 = df2[df2.duplicated(subset=['Album', 'Artist Name'], keep=False)]    (I have already run it in the previous cell)\n",
        "\n",
        "# Now I retrieve the indexes of the rows that I have to change\n",
        "row_indexes = duplicated_pairs_df2.index.tolist()\n",
        "\n",
        "# Change the values of specific rows in the 'Album' column\n",
        "# As new values for the corresponding rows I will use ['Album0', 'Album1'...]\n",
        "new_names = list()\n",
        "for N in range(len(row_indexes)):\n",
        "  new_names.append(f'Album{N}')\n",
        "\n",
        "df2.loc[row_indexes, 'Album'] = new_names"
      ]
    },
    {
      "cell_type": "markdown",
      "id": "Ag2MuUzx9Qd0",
      "metadata": {
        "id": "Ag2MuUzx9Qd0"
      },
      "source": [
        "Finally I merge the two DataFrames.\n",
        "\n",
        "I set the couple `['Album', 'Artist']` as index, since after our changes each of this couples is unique. Then I merge on the index, that is faster then merging on simple columns.\n",
        "\n",
        "The result is the outer join of the two DataFrames."
      ]
    },
    {
      "cell_type": "code",
      "execution_count": null,
      "id": "Yl-u6BL89YnG",
      "metadata": {
        "id": "Yl-u6BL89YnG"
      },
      "outputs": [],
      "source": [
        "# I rename the 'Artist Name' column of df2 to 'Artist' name, so it is equal to the DataFrame df1\n",
        "df2 = df2.rename(columns={'Artist Name': 'Artist'})\n",
        "\n",
        "df1.set_index(['Album', 'Artist'], inplace=True)\n",
        "df2.set_index(['Album', 'Artist'], inplace=True)\n",
        "\n",
        "df_merged = pd.merge(df1, df2, left_index=True, right_index=True, how='outer')"
      ]
    },
    {
      "cell_type": "code",
      "execution_count": null,
      "id": "kz3ZZUYfLBlV",
      "metadata": {
        "colab": {
          "base_uri": "https://localhost:8080/",
          "height": 385
        },
        "id": "kz3ZZUYfLBlV",
        "outputId": "f405c96d-e397-4e51-f1a5-1d9b5a44d4b0"
      },
      "outputs": [
        {
          "data": {
            "text/html": [
              "<div>\n",
              "<style scoped>\n",
              "    .dataframe tbody tr th:only-of-type {\n",
              "        vertical-align: middle;\n",
              "    }\n",
              "\n",
              "    .dataframe tbody tr th {\n",
              "        vertical-align: top;\n",
              "    }\n",
              "\n",
              "    .dataframe thead th {\n",
              "        text-align: right;\n",
              "    }\n",
              "</style>\n",
              "<table border=\"1\" class=\"dataframe\">\n",
              "  <thead>\n",
              "    <tr style=\"text-align: right;\">\n",
              "      <th></th>\n",
              "      <th></th>\n",
              "      <th>Number</th>\n",
              "      <th>Year</th>\n",
              "      <th>Genre</th>\n",
              "      <th>Subgenre</th>\n",
              "      <th>Ranking</th>\n",
              "      <th>Release Date</th>\n",
              "      <th>Genres</th>\n",
              "      <th>Descriptors</th>\n",
              "      <th>Average Rating</th>\n",
              "      <th>Number of Ratings</th>\n",
              "      <th>Number of Reviews</th>\n",
              "    </tr>\n",
              "    <tr>\n",
              "      <th>Album</th>\n",
              "      <th>Artist</th>\n",
              "      <th></th>\n",
              "      <th></th>\n",
              "      <th></th>\n",
              "      <th></th>\n",
              "      <th></th>\n",
              "      <th></th>\n",
              "      <th></th>\n",
              "      <th></th>\n",
              "      <th></th>\n",
              "      <th></th>\n",
              "      <th></th>\n",
              "    </tr>\n",
              "  </thead>\n",
              "  <tbody>\n",
              "    <tr>\n",
              "      <th>!!Destroy-Oh-Boy!!</th>\n",
              "      <th>New Bomb Turks</th>\n",
              "      <td>NaN</td>\n",
              "      <td>NaN</td>\n",
              "      <td>NaN</td>\n",
              "      <td>NaN</td>\n",
              "      <td>4872.0</td>\n",
              "      <td>1993</td>\n",
              "      <td>Garage Punk, Punk Rock</td>\n",
              "      <td>energetic, humorous, sarcastic, male vocals, p...</td>\n",
              "      <td>3.69</td>\n",
              "      <td>676</td>\n",
              "      <td>14.0</td>\n",
              "    </tr>\n",
              "    <tr>\n",
              "      <th>\"Al final de este viaje...\"</th>\n",
              "      <th>Silvio Rodríguez</th>\n",
              "      <td>NaN</td>\n",
              "      <td>NaN</td>\n",
              "      <td>NaN</td>\n",
              "      <td>NaN</td>\n",
              "      <td>682.0</td>\n",
              "      <td>1978</td>\n",
              "      <td>Nueva trova</td>\n",
              "      <td>acoustic, passionate, male vocals, poetic, con...</td>\n",
              "      <td>3.91</td>\n",
              "      <td>1,489</td>\n",
              "      <td>33.0</td>\n",
              "    </tr>\n",
              "    <tr>\n",
              "      <th>\"Born Into Trouble as the Sparks Fly Upward.\"</th>\n",
              "      <th>The Silver Mt. Zion Memorial Orchestra &amp; Tra-La-La Band</th>\n",
              "      <td>NaN</td>\n",
              "      <td>NaN</td>\n",
              "      <td>NaN</td>\n",
              "      <td>NaN</td>\n",
              "      <td>4763.0</td>\n",
              "      <td>23 October 2001</td>\n",
              "      <td>Post-Rock</td>\n",
              "      <td>melancholic, apocalyptic, suspenseful, atmosph...</td>\n",
              "      <td>3.65</td>\n",
              "      <td>3,982</td>\n",
              "      <td>51.0</td>\n",
              "    </tr>\n",
              "    <tr>\n",
              "      <th>\"Chrono Trigger\"</th>\n",
              "      <th>Yasunori Mitsuda</th>\n",
              "      <td>NaN</td>\n",
              "      <td>NaN</td>\n",
              "      <td>NaN</td>\n",
              "      <td>NaN</td>\n",
              "      <td>240.0</td>\n",
              "      <td>25 March 1995</td>\n",
              "      <td>Video Game Music, 16-bit</td>\n",
              "      <td>epic, fantasy, instrumental, eclectic, atmosph...</td>\n",
              "      <td>4.01</td>\n",
              "      <td>1,689</td>\n",
              "      <td>25.0</td>\n",
              "    </tr>\n",
              "    <tr>\n",
              "      <th>\"Heroes\"</th>\n",
              "      <th>David Bowie</th>\n",
              "      <td>NaN</td>\n",
              "      <td>NaN</td>\n",
              "      <td>NaN</td>\n",
              "      <td>NaN</td>\n",
              "      <td>155.0</td>\n",
              "      <td>14 October 1977</td>\n",
              "      <td>Art Rock</td>\n",
              "      <td>futuristic, atmospheric, male vocals, anxious,...</td>\n",
              "      <td>3.97</td>\n",
              "      <td>22,443</td>\n",
              "      <td>292.0</td>\n",
              "    </tr>\n",
              "  </tbody>\n",
              "</table>\n",
              "</div>"
            ],
            "text/plain": [
              "                                                                                                  Number  \\\n",
              "Album                                         Artist                                                       \n",
              "!!Destroy-Oh-Boy!!                            New Bomb Turks                                         NaN   \n",
              "\"Al final de este viaje...\"                   Silvio Rodríguez                                       NaN   \n",
              "\"Born Into Trouble as the Sparks Fly Upward.\" The Silver Mt. Zion Memorial Orchestra & Tra-La...     NaN   \n",
              "\"Chrono Trigger\"                              Yasunori Mitsuda                                       NaN   \n",
              "\"Heroes\"                                      David Bowie                                            NaN   \n",
              "\n",
              "                                                                                                  Year  \\\n",
              "Album                                         Artist                                                     \n",
              "!!Destroy-Oh-Boy!!                            New Bomb Turks                                       NaN   \n",
              "\"Al final de este viaje...\"                   Silvio Rodríguez                                     NaN   \n",
              "\"Born Into Trouble as the Sparks Fly Upward.\" The Silver Mt. Zion Memorial Orchestra & Tra-La...   NaN   \n",
              "\"Chrono Trigger\"                              Yasunori Mitsuda                                     NaN   \n",
              "\"Heroes\"                                      David Bowie                                          NaN   \n",
              "\n",
              "                                                                                                 Genre  \\\n",
              "Album                                         Artist                                                     \n",
              "!!Destroy-Oh-Boy!!                            New Bomb Turks                                       NaN   \n",
              "\"Al final de este viaje...\"                   Silvio Rodríguez                                     NaN   \n",
              "\"Born Into Trouble as the Sparks Fly Upward.\" The Silver Mt. Zion Memorial Orchestra & Tra-La...   NaN   \n",
              "\"Chrono Trigger\"                              Yasunori Mitsuda                                     NaN   \n",
              "\"Heroes\"                                      David Bowie                                          NaN   \n",
              "\n",
              "                                                                                                 Subgenre  \\\n",
              "Album                                         Artist                                                        \n",
              "!!Destroy-Oh-Boy!!                            New Bomb Turks                                          NaN   \n",
              "\"Al final de este viaje...\"                   Silvio Rodríguez                                        NaN   \n",
              "\"Born Into Trouble as the Sparks Fly Upward.\" The Silver Mt. Zion Memorial Orchestra & Tra-La...      NaN   \n",
              "\"Chrono Trigger\"                              Yasunori Mitsuda                                        NaN   \n",
              "\"Heroes\"                                      David Bowie                                             NaN   \n",
              "\n",
              "                                                                                                  Ranking  \\\n",
              "Album                                         Artist                                                        \n",
              "!!Destroy-Oh-Boy!!                            New Bomb Turks                                       4872.0   \n",
              "\"Al final de este viaje...\"                   Silvio Rodríguez                                      682.0   \n",
              "\"Born Into Trouble as the Sparks Fly Upward.\" The Silver Mt. Zion Memorial Orchestra & Tra-La...   4763.0   \n",
              "\"Chrono Trigger\"                              Yasunori Mitsuda                                      240.0   \n",
              "\"Heroes\"                                      David Bowie                                           155.0   \n",
              "\n",
              "                                                                                                     Release Date  \\\n",
              "Album                                         Artist                                                                \n",
              "!!Destroy-Oh-Boy!!                            New Bomb Turks                                                 1993   \n",
              "\"Al final de este viaje...\"                   Silvio Rodríguez                                               1978   \n",
              "\"Born Into Trouble as the Sparks Fly Upward.\" The Silver Mt. Zion Memorial Orchestra & Tra-La...  23 October 2001   \n",
              "\"Chrono Trigger\"                              Yasunori Mitsuda                                      25 March 1995   \n",
              "\"Heroes\"                                      David Bowie                                         14 October 1977   \n",
              "\n",
              "                                                                                                                    Genres  \\\n",
              "Album                                         Artist                                                                         \n",
              "!!Destroy-Oh-Boy!!                            New Bomb Turks                                        Garage Punk, Punk Rock   \n",
              "\"Al final de este viaje...\"                   Silvio Rodríguez                                                 Nueva trova   \n",
              "\"Born Into Trouble as the Sparks Fly Upward.\" The Silver Mt. Zion Memorial Orchestra & Tra-La...                 Post-Rock   \n",
              "\"Chrono Trigger\"                              Yasunori Mitsuda                                    Video Game Music, 16-bit   \n",
              "\"Heroes\"                                      David Bowie                                                         Art Rock   \n",
              "\n",
              "                                                                                                                                        Descriptors  \\\n",
              "Album                                         Artist                                                                                                  \n",
              "!!Destroy-Oh-Boy!!                            New Bomb Turks                                      energetic, humorous, sarcastic, male vocals, p...   \n",
              "\"Al final de este viaje...\"                   Silvio Rodríguez                                    acoustic, passionate, male vocals, poetic, con...   \n",
              "\"Born Into Trouble as the Sparks Fly Upward.\" The Silver Mt. Zion Memorial Orchestra & Tra-La...  melancholic, apocalyptic, suspenseful, atmosph...   \n",
              "\"Chrono Trigger\"                              Yasunori Mitsuda                                    epic, fantasy, instrumental, eclectic, atmosph...   \n",
              "\"Heroes\"                                      David Bowie                                         futuristic, atmospheric, male vocals, anxious,...   \n",
              "\n",
              "                                                                                                  Average Rating  \\\n",
              "Album                                         Artist                                                               \n",
              "!!Destroy-Oh-Boy!!                            New Bomb Turks                                                3.69   \n",
              "\"Al final de este viaje...\"                   Silvio Rodríguez                                              3.91   \n",
              "\"Born Into Trouble as the Sparks Fly Upward.\" The Silver Mt. Zion Memorial Orchestra & Tra-La...            3.65   \n",
              "\"Chrono Trigger\"                              Yasunori Mitsuda                                              4.01   \n",
              "\"Heroes\"                                      David Bowie                                                   3.97   \n",
              "\n",
              "                                                                                                 Number of Ratings  \\\n",
              "Album                                         Artist                                                                 \n",
              "!!Destroy-Oh-Boy!!                            New Bomb Turks                                                   676   \n",
              "\"Al final de este viaje...\"                   Silvio Rodríguez                                               1,489   \n",
              "\"Born Into Trouble as the Sparks Fly Upward.\" The Silver Mt. Zion Memorial Orchestra & Tra-La...             3,982   \n",
              "\"Chrono Trigger\"                              Yasunori Mitsuda                                               1,689   \n",
              "\"Heroes\"                                      David Bowie                                                   22,443   \n",
              "\n",
              "                                                                                                  Number of Reviews  \n",
              "Album                                         Artist                                                                 \n",
              "!!Destroy-Oh-Boy!!                            New Bomb Turks                                                   14.0  \n",
              "\"Al final de este viaje...\"                   Silvio Rodríguez                                                 33.0  \n",
              "\"Born Into Trouble as the Sparks Fly Upward.\" The Silver Mt. Zion Memorial Orchestra & Tra-La...               51.0  \n",
              "\"Chrono Trigger\"                              Yasunori Mitsuda                                                 25.0  \n",
              "\"Heroes\"                                      David Bowie                                                     292.0  "
            ]
          },
          "execution_count": 17,
          "metadata": {},
          "output_type": "execute_result"
        }
      ],
      "source": [
        "df_merged.head()"
      ]
    },
    {
      "cell_type": "code",
      "execution_count": null,
      "id": "cmBWTvHdNfYm",
      "metadata": {
        "colab": {
          "base_uri": "https://localhost:8080/"
        },
        "id": "cmBWTvHdNfYm",
        "outputId": "1e6ab056-0417-454e-824d-520181dbcbe7"
      },
      "outputs": [
        {
          "data": {
            "text/plain": [
              "(5205, 11)"
            ]
          },
          "execution_count": 18,
          "metadata": {},
          "output_type": "execute_result"
        }
      ],
      "source": [
        "df_merged.shape"
      ]
    },
    {
      "cell_type": "code",
      "execution_count": null,
      "id": "yPonqAwH_fci",
      "metadata": {
        "id": "yPonqAwH_fci"
      },
      "outputs": [],
      "source": [
        "df_merged.to_csv('data/merged_dataframe.csv', index=True)"
      ]
    },
    {
      "cell_type": "markdown",
      "id": "SBhmD19mnVMx",
      "metadata": {
        "id": "SBhmD19mnVMx"
      },
      "source": [
        "### 1.2 ) Create an RDFLib `Graph` and add triples from the data of the dataframes"
      ]
    },
    {
      "cell_type": "markdown",
      "id": "r8bXKb3N99Tm",
      "metadata": {
        "id": "r8bXKb3N99Tm"
      },
      "source": [
        "I start creating:\n",
        "  \n",
        "*   an RDFLib `Graph`,\n",
        "*   the namespace `df` that we will use to add the elements of our merged dataframe to the graph,\n",
        "*   the URIs that we will use as predicate and class.\n"
      ]
    },
    {
      "cell_type": "code",
      "execution_count": null,
      "id": "bpjqxNNnG9HK",
      "metadata": {
        "colab": {
          "base_uri": "https://localhost:8080/",
          "height": 34
        },
        "id": "bpjqxNNnG9HK",
        "outputId": "00758e3a-43d2-4e3b-a5b2-f9002d9b4f6e"
      },
      "outputs": [
        {
          "data": {
            "text/plain": [
              "rdflib.term.URIRef('http://example.org/DataFrame/numberOfReviews')"
            ]
          },
          "execution_count": 20,
          "metadata": {},
          "output_type": "execute_result"
        }
      ],
      "source": [
        "# Create our graph\n",
        "rdf_graph = Graph()\n",
        "df = Namespace('http://example.org/DataFrame/')\n",
        "rdf_graph.namespace_manager.bind('df', 'http://example.org/DataFrame/')\n",
        "\n",
        "# Create some URI that I will use as predicate or object for my triples\n",
        "df['Album']\n",
        "df['Artist']\n",
        "df['Genre']\n",
        "df['artist']\n",
        "df['releaseDate']\n",
        "df['year']\n",
        "df['genre']\n",
        "df['subgenre']\n",
        "df['descriptors']\n",
        "df['rsRanking']\n",
        "df['rymRanking']\n",
        "df['averageRating']\n",
        "df['numberOfRatings']\n",
        "df['numberOfReviews']"
      ]
    },
    {
      "cell_type": "markdown",
      "id": "PzzSI7SIc4f4",
      "metadata": {
        "id": "PzzSI7SIc4f4"
      },
      "source": [
        "I will have something of this kind:"
      ]
    },
    {
      "cell_type": "code",
      "execution_count": null,
      "id": "XZPG7-_Hc7xT",
      "metadata": {
        "id": "XZPG7-_Hc7xT",
        "outputId": "1877d968-a8c2-4fc7-fdb1-cc07c233d333"
      },
      "outputs": [
        {
          "data": {
            "image/png": "[encoded data removed]",
            "text/plain": [
              "<IPython.core.display.Image object>"
            ]
          },
          "execution_count": 21,
          "metadata": {},
          "output_type": "execute_result"
        }
      ],
      "source": [
        "# Visualizing a sample graph\n",
        "g_sample = Graph()\n",
        "df = Namespace('http://example.org/DataFrame/')\n",
        "g_sample.namespace_manager.bind('df', 'http://example.org/DataFrame/')\n",
        "\n",
        "album_uri = Literal(\"_:album\")\n",
        "data = (\n",
        "    (album_uri, RDF.type, df.Album),\n",
        "    (album_uri, df.artist, Literal(\"_:artist\")),\n",
        "    (Literal(\"_:artist\"), RDF.type, df.Artist),\n",
        "    (album_uri, df.averageRating, Literal(\"3.88\")),\n",
        "    (album_uri, df.numberOfRatings, Literal(\"8442\")),\n",
        "    (album_uri, df.numberOfReviews, Literal(\"25.0\")),\n",
        "    (album_uri, df.rymRanking, Literal(\"1930.0\")),\n",
        "    (album_uri, df.rsRanking, Literal(\"279\")),\n",
        "    (album_uri, df.releaseDate, Literal(\"1989-12-07\", datatype=XSD.date)),\n",
        "    (album_uri, df.year, Literal(\"1989\", datatype=XSD.gYear)),\n",
        "    (album_uri, df.genre, df.Rock),\n",
        "    (album_uri, df.subgenre, df.JRock),\n",
        "    (album_uri, df.subgenre, df.Alternative_Rock),\n",
        "    (album_uri, df.descriptors, Literal(\"energetic, humorous, sarcastic\"))\n",
        ")\n",
        "for triple in data:\n",
        "    g_sample.add(triple)\n",
        "\n",
        "G_sample = rdflib_to_networkx_multidigraph(g_sample, edge_attrs = lambda s, p, o: {\"label\" : p.n3(g_sample.namespace_manager)})\n",
        "mapping = {node: node.n3(g_sample.namespace_manager) for node in G_sample.nodes}\n",
        "G_sample = nx.relabel_nodes(G_sample, mapping)\n",
        "A = nx.nx_agraph.to_agraph(G_sample)\n",
        "A.draw(\"images/example.png\", prog='dot', args=\"-Gdpi=1000 -Gsize=5\")\n",
        "Image(\"images/example.png\")"
      ]
    },
    {
      "cell_type": "markdown",
      "id": "5ckMAcpBAaKn",
      "metadata": {
        "id": "5ckMAcpBAaKn"
      },
      "source": [
        "**FUNCTIONS**"
      ]
    },
    {
      "cell_type": "markdown",
      "id": "Ll48hmXGdN-a",
      "metadata": {
        "id": "Ll48hmXGdN-a"
      },
      "source": [
        "I create some function that will transform the simple literals and integers that I have in the tables in a form that will be useful for adding them in the graph.\n",
        "\n",
        "In the URIs for the album and the artist I will replace spaces with underscore `_`, removes the quotes `\"` and the accents. And I will link those URIs with an `RDFS.label`, which contains again the artist and the album, but as `datatype=XSD.string`.\n",
        "\n",
        "For the floats values I have to remove the comma `,` since in the column `Number of Ratings` it is used for representing the thousands.\n",
        "\n",
        "Language tagged strings are simply added as strings and `lang=\"en\"`, and will be used in particular for the descriptors"
      ]
    },
    {
      "cell_type": "code",
      "execution_count": null,
      "id": "V_YNO_fcuk2U",
      "metadata": {
        "id": "V_YNO_fcuk2U"
      },
      "outputs": [],
      "source": [
        "# Here I create the functions that will transform the values in the dataframe\n",
        "### URI:\n",
        "def value_to_uri(value):\n",
        "    modified_string = value.replace(\" \", \"_\")\n",
        "    modified_string = modified_string.replace('\"', '')\n",
        "    modified_string = modified_string.replace('à', 'a')\n",
        "    modified_string = modified_string.replace('ã', 'a')\n",
        "    modified_string = modified_string.replace('ä', 'a')\n",
        "    modified_string = modified_string.replace('é', 'e')\n",
        "    modified_string = modified_string.replace('è', 'e')\n",
        "    modified_string = modified_string.replace('ï', 'i')\n",
        "    modified_string = modified_string.replace('í', 'i')\n",
        "    modified_string = modified_string.replace('ò', 'o')\n",
        "    modified_string = modified_string.replace('ö', 'o')\n",
        "    modified_string = modified_string.replace('ù', 'u')\n",
        "    modified_string = modified_string.replace('ü', 'u')\n",
        "    modified_string = modified_string.replace('ç', 'c')\n",
        "    return df[ modified_string ]\n",
        "\n",
        "### Float:\n",
        "def value_to_float(value):\n",
        "    # I have to remove the comma (representing the thousands),\n",
        "    # so I first transform into a string so that I can use the replace() method\n",
        "    value_to_str = str(value)\n",
        "    value_whitout_comma = value_to_str.replace(\",\", \"\")\n",
        "    value_float = float(value_whitout_comma)\n",
        "    return Literal(value_float, datatype=XSD.float)\n",
        "\n",
        "\n",
        "### Language tagged string:\n",
        "def value_to_tagged_string(value):\n",
        "    value_string = str(value)\n",
        "    return Literal(value_string, lang=\"en\")\n"
      ]
    },
    {
      "cell_type": "markdown",
      "id": "QybG36-pulWF",
      "metadata": {
        "id": "QybG36-pulWF"
      },
      "source": [
        "The function that will transform the date and the years take into considerations more cases, since the the column `'Release Date'`, the dates appears in many formats, therefore to transfer this data in the cleanest way into my graph I will:\n",
        "\n",
        "\n",
        "*   transforme the dates in the format YYYY-MM-DD and use them as `datatype=XSD.date`,\n",
        "*   if I have simply the year, I will use the format YYYY, as `datatype=XSD.gYear`.\n",
        "\n",
        "In particular in the column `['Date']` I can have the date in the format 'DD month YYYY' or 'month YYYY' or 'YYYY', while in `['Year']` simply 'YYYY' (as a float). In the rows in which I don't have a value for the year, I will extract the information from the date column, and use that one."
      ]
    },
    {
      "cell_type": "code",
      "execution_count": null,
      "id": "3UCkiZ0kC5H2",
      "metadata": {
        "id": "3UCkiZ0kC5H2"
      },
      "outputs": [],
      "source": [
        "# Check if a value is \"NaN\"\n",
        "def is_nan(value):\n",
        "    if isinstance(value, str) or isinstance(value, int):\n",
        "        return False\n",
        "    return math.isnan(value)"
      ]
    },
    {
      "cell_type": "code",
      "execution_count": null,
      "id": "m6XnzIqJHNIc",
      "metadata": {
        "id": "m6XnzIqJHNIc"
      },
      "outputs": [],
      "source": [
        "### Date and Year, with xsd:date and xsd:gYear:\n",
        "# The following function check if the format of date_string matches the date_format\n",
        "def is_valid_date_format(date_string, date_format):\n",
        "    try:\n",
        "        datetime.strptime(date_string, date_format)\n",
        "        return True\n",
        "    except:\n",
        "        return False\n",
        "\n",
        "# Input 1: Date, Input 2: Year\n",
        "# Output 1: Date, Output 2: Year\n",
        "def value_to_date_year(date_value, year_value):\n",
        "\n",
        "    # If I have only the year\n",
        "    if is_nan(date_value):\n",
        "        year_value = int(year_value)\n",
        "        return None, Literal(year_value, datatype=XSD.gYear)\n",
        "\n",
        "    # If I have only the date\n",
        "    # I extract the year from it\n",
        "    elif is_nan(year_value):\n",
        "        # check each format one by one\n",
        "        # Day, month and year\n",
        "        if is_valid_date_format(date_value, '%d %B %Y'):\n",
        "            # Convert string to datetime object\n",
        "            date_object = datetime.strptime(date_value, '%d %B %Y')\n",
        "            # Convert datetime object to desired string format 'yyyy-mm-dd'\n",
        "            output_date = date_object.strftime('%Y-%m-%d')\n",
        "            # Extract the year in the format 'yyyy'\n",
        "            output_year = date_object.strftime('%Y')\n",
        "            return Literal(output_date, datatype=XSD.date), Literal(output_year, datatype=XSD.gYear)\n",
        "        # Repeat with the other formats\n",
        "        # Month and year\n",
        "        elif is_valid_date_format(date_value, '%B %Y'):\n",
        "            date_object = datetime.strptime(date_value, '%B %Y')\n",
        "            output_date = date_object.strftime('%Y-%m-%d')\n",
        "            output_year = date_object.strftime('%Y')\n",
        "            return Literal(output_date, datatype=XSD.date), Literal(output_year, datatype=XSD.gYear)\n",
        "        # If I have only the year, I will use it as datatype=XSD.gYear\n",
        "        elif is_valid_date_format(date_value, '%Y'):\n",
        "            return None, Literal(date_value, datatype=XSD.gYear)\n",
        "\n",
        "    # If I have both, I do similarly to the previous point, but I give as result also the year value, taked from ['Year'] column\n",
        "    else:\n",
        "        year_value = int(year_value)\n",
        "        if is_valid_date_format(date_value, '%d %B %Y'):\n",
        "            date_object = datetime.strptime(date_value, '%d %B %Y')\n",
        "            output_date = date_object.strftime('%Y-%m-%d')\n",
        "            return Literal(output_date, datatype=XSD.date), Literal(year_value, datatype=XSD.gYear)\n",
        "\n",
        "        elif is_valid_date_format(date_value, '%B %Y'):\n",
        "            date_object = datetime.strptime(date_value, '%B %Y')\n",
        "            output_date = date_object.strftime('%Y-%m-%d')\n",
        "            return Literal(output_date, datatype=XSD.date), Literal(year_value, datatype=XSD.gYear)\n",
        "\n",
        "        # In this case I will maintain only the value from the year column\n",
        "        elif is_valid_date_format(date_value, '%Y'):\n",
        "            return None, Literal(year_value, datatype=XSD.gYear)"
      ]
    },
    {
      "cell_type": "markdown",
      "id": "vflbpjeD9txV",
      "metadata": {
        "id": "vflbpjeD9txV"
      },
      "source": [
        "The function that will handle the columns `['Genre', 'Subgenre']` from df1 and `['Genres']` from df2 will work in the following way.\n",
        "\n",
        "I will use only two predicate, `df.genre` and `df.subgenre`\n",
        "\n",
        "For each album:\n",
        "\n",
        "*   if I have only `['Genre', 'Subgenre']`, use directly them as `df.genre` and `df.subgenre`,\n",
        "*   if I have only `['Genres']`, I will extract the main genre for `df.genre` and put everything that I have in `['Genres']` as `df.subgenre`,\n",
        "*   if I have both I will integrate the elements in `['Genre', 'Subgenre']` by adding the ones in `['Genres']`.\n",
        "\n",
        "For each element I need to parse it, to obtain each genre separatly. My idea is to collect every genre in a dictionary, so that I can check if one of this value is present in `['Genres']`, so that I can extract it as main genre, and then put the others as subgenres."
      ]
    },
    {
      "cell_type": "markdown",
      "id": "CWko_8AzQMH_",
      "metadata": {
        "id": "CWko_8AzQMH_"
      },
      "source": [
        "\n",
        "\n",
        "----------\n",
        "\n",
        "\n",
        "Build a dictionary which collect every genre that I have in the column `['Genre']`:\n",
        "\n",
        "I create a duplicate column of `['Genre']` as a separate series, remove all the `NaN` values and do some operations:\n",
        "\n",
        "after I want to split each list-value of my dictionary (since some element of my series have more than one genre), so I have to change some special character that appears in my values\n",
        "\n",
        "*   Replace `', & '` with `', '`, since it appears for ex. `'Folk, World, & Country'`, but also `'Stage & Screen'` which is a unique genre that I don't want to split,\n",
        "*   Replace `' / '` with `', '`, since it appears for ex. `'Funk / Soul'`,\n",
        "*   Replace `'\\xa0'` with `' '`, since it appears for ex. `'Rock,\\xa0Pop'`,\n",
        "\n",
        "Then `split(', ')`, convert my modified series into a dictionary, split each list which appear as value in my dictionary as multiple key-value (with as value we have a simple string), finally eliminate duplicated values and rename the keys.\n",
        "\n",
        "For each genre I will attach an `RDFS.label` with the name of the genre as `datatype=XSD.string`"
      ]
    },
    {
      "cell_type": "code",
      "execution_count": null,
      "id": "9AKyQ4VKIIMC",
      "metadata": {
        "id": "9AKyQ4VKIIMC"
      },
      "outputs": [],
      "source": [
        "# Build A dictionary with the genres\n",
        "\n",
        "# Create a duplicate column as a separated Series\n",
        "genre_column_copy = df_merged['Genre'].copy()\n",
        "\n",
        "# Remove NaN values from the Series\n",
        "genre_column_without_nan = genre_column_copy.dropna()\n",
        "\n",
        "# Replace ', & ' with ', '\n",
        "# Replace ' / ' with ', '\n",
        "# in each value of the Series\n",
        "genre_column_modified = genre_column_without_nan.apply(lambda x: x.replace(', & ', ', '))\n",
        "genre_column_modified = genre_column_modified.apply(lambda x: x.replace(' / ', ', '))\n",
        "genre_column_modified = genre_column_modified.apply(lambda x: x.replace('\\xa0', ' '))\n",
        "\n",
        "# Split the values in the duplicated column\n",
        "genre_column_splitted = genre_column_modified.str.split(', ')\n",
        "\n",
        "# Convert the duplicated column to a dictionary\n",
        "genre_column_dict_list = genre_column_splitted.to_dict()\n",
        "\n",
        "# Split each value in the original dictionary\n",
        "# and store it in a new dictionary, with each value splitted (insted of having lists of values)\n",
        "genre_dict_with_duplicates = {}\n",
        "\n",
        "for key, values in genre_column_dict_list.items():\n",
        "    for value in values:\n",
        "        new_key = f'{key}_{value}'\n",
        "        genre_dict_with_duplicates[new_key] = value\n",
        "\n",
        "# Create a set to store unique values\n",
        "unique_values = set()\n",
        "\n",
        "# Filter out duplicate values from the dictionary\n",
        "genre_dict_with_index_as_keys = {key: value for key, value in genre_dict_with_duplicates.items() if value not in unique_values and not unique_values.add(value)}\n",
        "\n",
        "# Create a new dictionary with renamed keys\n",
        "genre_dict = {str(i+1): value for i, (_, value) in enumerate(genre_dict_with_index_as_keys.items())}\n"
      ]
    },
    {
      "cell_type": "code",
      "execution_count": null,
      "id": "1aEEWRzzMLlq",
      "metadata": {
        "colab": {
          "base_uri": "https://localhost:8080/"
        },
        "id": "1aEEWRzzMLlq",
        "outputId": "9a294674-e5d9-41ec-d792-4ce1c2a25c63"
      },
      "outputs": [
        {
          "name": "stdout",
          "output_type": "stream",
          "text": [
            "Here I have my genres:\n",
            "1: Rock\n",
            "2: Pop\n",
            "3: Funk\n",
            "4: Soul\n",
            "5: Hip Hop\n",
            "6: Folk\n",
            "7: World\n",
            "8: Country\n",
            "9: Jazz\n",
            "10: Electronic\n",
            "11: Stage & Screen\n",
            "12: Latin\n",
            "13: Blues\n",
            "14: Reggae\n",
            "15: Classical\n"
          ]
        }
      ],
      "source": [
        "print(\"Here I have my genres:\")\n",
        "for key, value in genre_dict.items():\n",
        "    print(f'{key}: {value}')"
      ]
    },
    {
      "cell_type": "code",
      "execution_count": null,
      "id": "bg8X7X0gJuzM",
      "metadata": {
        "id": "bg8X7X0gJuzM"
      },
      "outputs": [],
      "source": [
        "# 'genre 1, genre 2' -> 'genre_1,_genre_2' -> ['genre_1', 'genre_2']\n",
        "def value_to_correct_format(value):\n",
        "    # Replace /\n",
        "    value_modified = value.replace(\" / \", \", \")\n",
        "    # Replace &\n",
        "    value_modified = value_modified.replace(', & ', ', ')\n",
        "    # Replace spaces\n",
        "    value_modified = value_modified.replace(\" \", \"_\")\n",
        "    # Split the string into individual words\n",
        "    value_list = value_modified.split(',_')\n",
        "    return value_list"
      ]
    },
    {
      "cell_type": "code",
      "execution_count": null,
      "id": "bKvVvb4aAS-D",
      "metadata": {
        "id": "bKvVvb4aAS-D"
      },
      "outputs": [],
      "source": [
        "# Input 1: Genre_df1, Input 2: Subgenre_df1, Input 3: Genres_df2\n",
        "# As output I return lists, than I will get each value by doing an iteraton when I build the graph\n",
        "# Output 1: Genre_list, Output 2: Subgenre_list\n",
        "def value_to_genre_subgenre(genre_df1_value, subgenre_df1_value, genres_df2_value):\n",
        "    # If I have only genre and subgenre\n",
        "    if is_nan(genres_df2_value):\n",
        "        # Put in the correct format\n",
        "        genre_list = value_to_correct_format(genre_df1_value)\n",
        "        subgenre_list = value_to_correct_format(subgenre_df1_value)\n",
        "        return genre_list, subgenre_list\n",
        "\n",
        "    # If I have only genres\n",
        "    elif is_nan(genre_df1_value):\n",
        "        # Find all values from the dictionary that appear in the string\n",
        "        genre_list = [value for value in genre_dict.values() if str(value) in genres_df2_value]\n",
        "\n",
        "        # Store each genres as subgenre\n",
        "        subgenre_list = value_to_correct_format(genres_df2_value)\n",
        "        return genre_list, subgenre_list\n",
        "\n",
        "    # If I have both\n",
        "    # I do as in the two previous cases, but I sum the two results\n",
        "    else:\n",
        "        genre_list_1 = value_to_correct_format(genre_df1_value)\n",
        "        subgenre_list_1 = value_to_correct_format(subgenre_df1_value)\n",
        "\n",
        "        genre_list_2 = [value for value in genre_dict.values() if str(value) in genres_df2_value]\n",
        "        subgenre_list_2 = value_to_correct_format(genres_df2_value)\n",
        "\n",
        "        # I sum them doing the union of two sets, so that I don't have duplicates\n",
        "        genre_list = list(set(genre_list_1) | set(genre_list_2))\n",
        "        subgenre_list = list(set(subgenre_list_1) | set(subgenre_list_2))\n",
        "\n",
        "        return genre_list, subgenre_list"
      ]
    },
    {
      "cell_type": "markdown",
      "id": "sowPHgWHAqdL",
      "metadata": {
        "id": "sowPHgWHAqdL"
      },
      "source": [
        "**BUILD THE GRAPH**"
      ]
    },
    {
      "cell_type": "markdown",
      "id": "vgE9TQoVgTOW",
      "metadata": {
        "id": "vgE9TQoVgTOW"
      },
      "source": [
        "Then I iterate over each row using the method `itertuples() `, and for each row I retrieve all the values, transform them with the functions I have just created, and finally build the triples that I will add to the graph.\n",
        "\n",
        "I will use `itertuples()` instead of `iterrows()`, since doing an iteration on tuples should be faster.\n",
        "\n",
        "For convinience I will do a simple check on the `['Number']` and `['Ranking']` columns to see if this row have both elements from the starting dataframes df1 and df2 (respectively), so I can easily see if I have each value from this row (or if some of them are `NaN`). By doing this I can easily recognise what triples I can add to my graph and what are useless since doesn't hold any value."
      ]
    },
    {
      "cell_type": "code",
      "execution_count": null,
      "id": "q03XgUs4rnl2",
      "metadata": {
        "id": "q03XgUs4rnl2"
      },
      "outputs": [],
      "source": [
        "# Iterate over each row with index using itertuples()\n",
        "for row in df_merged.itertuples():\n",
        "    # Access the index value\n",
        "    album_value = row.Index[0]\n",
        "    artist_value = row.Index[1]\n",
        "\n",
        "    # Access the value of each column separately\n",
        "    # df1\n",
        "    number_value = row[1]\n",
        "    year_value = row[2]\n",
        "    genre_value = row[3]\n",
        "    subgenre_value = row[4]\n",
        "    # df2\n",
        "    ranking_value = row[5]\n",
        "    release_date_value = row[6]\n",
        "    genres_value = row[7]\n",
        "    descriptors_value = row[8]\n",
        "    average_rating_value = row[9]\n",
        "    number_of_ratings_value = row[10]\n",
        "    number_of_reviews_value = row[11]\n",
        "\n",
        "    ############################################################################\n",
        "\n",
        "    # Transform every information that I have obtained from this row and add them to the graph\n",
        "    # simple URIs + label\n",
        "    album = value_to_uri(album_value)\n",
        "    artist = value_to_uri(artist_value)\n",
        "    rdf_graph.add((album, df.artist, artist))\n",
        "    rdf_graph.add((album, RDF.type, df.Album))\n",
        "    rdf_graph.add((artist, RDF.type, df.Artist))\n",
        "    # label\n",
        "    album_label = Literal(album_value, datatype=XSD.string)\n",
        "    artist_label = Literal(artist_value, datatype=XSD.string)\n",
        "    rdf_graph.add((album, RDFS.label, album_label))\n",
        "    rdf_graph.add((artist, RDFS.label, artist_label))\n",
        "\n",
        "    # Date and Year\n",
        "    output_date, output_year = value_to_date_year(release_date_value, year_value)\n",
        "    if output_date:\n",
        "        rdf_graph.add((album, df.releaseDate, output_date))\n",
        "        rdf_graph.add((album, df.year, output_year))\n",
        "    else:\n",
        "        rdf_graph.add((album, df.year, output_year))\n",
        "\n",
        "    # Genre and Subgenre (which are URIs)\n",
        "    output_genre_list, output_subgenre_list = value_to_genre_subgenre(genre_value, subgenre_value, genres_value)\n",
        "    for genre in output_genre_list:\n",
        "        uri_genre = value_to_uri(genre)\n",
        "        literal_genre = value_to_tagged_string(genre)\n",
        "        rdf_graph.add((album, df.genre, uri_genre))\n",
        "        rdf_graph.add((uri_genre, RDF.type, df.Genre))\n",
        "        rdf_graph.add((uri_genre, RDFS.label, literal_genre))\n",
        "    for subgenre in output_subgenre_list:\n",
        "        uri_subgenre = value_to_uri(subgenre)\n",
        "        literal_subgenre = value_to_tagged_string(subgenre)\n",
        "        rdf_graph.add((album, df.subgenre, uri_subgenre))\n",
        "        rdf_graph.add((uri_subgenre, RDF.type, df.Genre))\n",
        "        rdf_graph.add((uri_subgenre, RDFS.label, literal_subgenre))\n",
        "\n",
        "    ############################################################################\n",
        "\n",
        "    # here the simpler datas\n",
        "    # df1\n",
        "    if not is_nan(number_value):\n",
        "        # rollingStones ranking\n",
        "        rs_Ranking = value_to_float(number_value)\n",
        "        rdf_graph.add((album, df.rsRanking, rs_Ranking))\n",
        "\n",
        "    # df2\n",
        "    if not is_nan(ranking_value):\n",
        "        # rateYourMusic ranking\n",
        "        rym_Ranking = value_to_float(ranking_value)\n",
        "        rdf_graph.add((album, df.rymRanking, rym_Ranking))\n",
        "        # descriptors\n",
        "        descriptors = value_to_tagged_string(descriptors_value)\n",
        "        rdf_graph.add((album, df.descriptors, descriptors))\n",
        "        # average rating\n",
        "        average_rating = value_to_float(average_rating_value)\n",
        "        rdf_graph.add((album, df.averageRating, average_rating))\n",
        "        # number of ratings\n",
        "        number_of_ratings = value_to_float(number_of_ratings_value)\n",
        "        rdf_graph.add((album, df.numberOfRatings, number_of_ratings))\n",
        "        # number of reviews\n",
        "        number_of_reviews = value_to_float(number_of_reviews_value)\n",
        "        rdf_graph.add((album, df.numberOfReviews, number_of_reviews))\n"
      ]
    },
    {
      "cell_type": "markdown",
      "id": "8UHEfZjXjgHI",
      "metadata": {
        "id": "8UHEfZjXjgHI"
      },
      "source": [
        " I write the RDF graph as a file on disk."
      ]
    },
    {
      "cell_type": "code",
      "execution_count": null,
      "id": "nnsVg6bRjcvI",
      "metadata": {
        "colab": {
          "base_uri": "https://localhost:8080/"
        },
        "id": "nnsVg6bRjcvI",
        "outputId": "82ee3345-50c3-4961-f5b7-e7d640051263"
      },
      "outputs": [
        {
          "data": {
            "text/plain": [
              "<Graph identifier=Nfc54fab0d8f748199ae38c6283c308d6 (<class 'rdflib.graph.Graph'>)>"
            ]
          },
          "execution_count": 30,
          "metadata": {},
          "output_type": "execute_result"
        }
      ],
      "source": [
        "# SAVE ON DISK\n",
        "rdf_graph.serialize(destination=\"./data/graph_01.ttl\")"
      ]
    },
    {
      "cell_type": "markdown",
      "id": "b65cd562",
      "metadata": {
        "id": "b65cd562"
      },
      "source": [
        "## **`2. Integrate your data with DBpedia's`**"
      ]
    },
    {
      "cell_type": "markdown",
      "id": "p3fyV2fQqWGQ",
      "metadata": {
        "id": "p3fyV2fQqWGQ"
      },
      "source": [
        "### 2.1 ) Link the URIs of my current graph with DBpedia"
      ]
    },
    {
      "cell_type": "markdown",
      "id": "Od3h66ogqwwZ",
      "metadata": {
        "id": "Od3h66ogqwwZ"
      },
      "source": [
        "Before of extending my current graph with other information that I have in DBpedia, I want to link my URIs extracted from the dataframes to the mains one used in DBpedia, by employing `OWL.sameAs`\n",
        "\n",
        "Because my aim is to complete at the end the graph using the OWL reasoner, that will link by means of `OWL.sameAs` what I have in my initial graph, with the informations that I have in DBpedia. But still maintaining the original form and informations that I have in the dataframes, as base of the graph."
      ]
    },
    {
      "cell_type": "code",
      "execution_count": null,
      "id": "NY5StSteWYKe",
      "metadata": {
        "id": "NY5StSteWYKe"
      },
      "outputs": [],
      "source": [
        "# Load the graph of the previous stage, without having to redo everything\n",
        "rdf_graph = Graph().parse(\"./data/graph_01.ttl\")\n",
        "\n",
        "df = Namespace('http://example.org/DataFrame/')\n",
        "rdf_graph.bind('df', 'http://example.org/DataFrame/')\n"
      ]
    },
    {
      "cell_type": "code",
      "execution_count": null,
      "id": "NraCKRW6w7K0",
      "metadata": {
        "id": "NraCKRW6w7K0"
      },
      "outputs": [],
      "source": [
        "# Define the DBpedia namespaces\n",
        "dbp = Namespace('http://dbpedia.org/property/')\n",
        "dbo = Namespace('http://dbpedia.org/ontology/')\n",
        "dbr = Namespace('http://dbpedia.org/resource/')\n",
        "\n",
        "# Bind the prefixes to the graph\n",
        "rdf_graph.bind('dbp', 'http://dbpedia.org/property/')\n",
        "rdf_graph.bind('dbo', 'http://dbpedia.org/ontology/')\n",
        "rdf_graph.bind('dbr', 'http://dbpedia.org/resource/')\n",
        "\n",
        "# initialize the SPARQLWrapper endpoint\n",
        "sparql = SPARQLWrapper('https://dbpedia.org/sparql')"
      ]
    },
    {
      "cell_type": "markdown",
      "id": "mwlWO_4xdWlB",
      "metadata": {
        "id": "mwlWO_4xdWlB"
      },
      "source": [
        "For each triple `(album, df.artist, artist)` I will try to metch the album and the artist in the following way\n",
        "\n",
        "**ALBUM:**\n",
        "\n",
        "*   `replace(\"http://example.org/DataFrame/\", \"http://dbpedia.org/resource/\")`, simply changing the URI and asking to DBpedia if the album exists\n",
        "*   `replace(\"http://example.org/DataFrame/\", \"http://dbpedia.org/resource/\") + '_(Album)`, simply changing the URI and adding the string \"_(Album)\" and asking to DBpedia if the album exists\n",
        "*   `SELECT ?album WHERE {{ ?album rdfs:label {album_label} }}`, searching every entity that have a label that is the same to our album name (with some simple string changes like `replace(\"_\", \" \")` )\n",
        "\n",
        "**ARTIST:**\n",
        "\n",
        "*   `replace(\"http://example.org/DataFrame/\", \"http://dbpedia.org/resource/\")`, simply changing the URI and asking to DBpedia if the artist exists\n",
        "*   `SELECT ?artist WHERE {{ ?album rdfs:label {artist_label} }}`, searching every entity that have a label that is the same to our artist name (with some simple string changes like `replace(\"_\", \" \")` )\n",
        "\n"
      ]
    },
    {
      "cell_type": "code",
      "execution_count": null,
      "id": "Uc3GVxSPqVWq",
      "metadata": {
        "id": "Uc3GVxSPqVWq"
      },
      "outputs": [],
      "source": [
        "# Retrieve every s, o linked by df.artist, that are album and artist\n",
        "for album, artist in rdf_graph.subject_objects(df.artist):\n",
        "\n",
        "    # This will be useful later, to see what URIs use to link album with artist\n",
        "    flag_1, flag_2, flag_3, flag_4, flag_5 = False, False, False, False, False\n",
        "\n",
        "    # I replace my prefix with the one corresponding to DBpedia Resources | FLAG_1\n",
        "    dbr_album_1 = album.replace(\"http://example.org/DataFrame/\", \"http://dbpedia.org/resource/\")\n",
        "\n",
        "    sparql.setQuery(f\"ASK {{<{dbr_album_1}> a dbo:Album }}\")\n",
        "    sparql.setReturnFormat('json')\n",
        "    results = sparql.query().convert()\n",
        "    if results['boolean'] is True:\n",
        "        flag_1 = True\n",
        "        album_1 = dbr_album_1.replace(\"http://dbpedia.org/resource/\", \"\")\n",
        "        rdf_graph.add((dbr[album_1], OWL.sameAs, album))\n",
        "        rdf_graph.add((dbr[album_1], RDF.type, dbo.Album))\n",
        "\n",
        "    ############################################################################\n",
        "    # ending with '_(album)' | FLAG_2\n",
        "    dbr_album_2 = dbr_album_1 + '_(Album)'\n",
        "\n",
        "    sparql.setQuery(f\"ASK {{<{dbr_album_2}> a dbo:Album }}\")\n",
        "    sparql.setReturnFormat('json')\n",
        "    results = sparql.query().convert()\n",
        "    if results['boolean'] is True:\n",
        "        flag_2 = True\n",
        "        album_2 = dbr_album_2.replace(\"http://dbpedia.org/resource/\", \"\")\n",
        "        rdf_graph.add((dbr[album_2], OWL.sameAs, album))\n",
        "        rdf_graph.add((dbr[album_2], RDF.type, dbo.Album))\n",
        "\n",
        "    ############################################################################\n",
        "    # album linked with rdfs:label and a string | FLAG_3\n",
        "    album_label = album.replace(\"http://example.org/DataFrame/\", \"\")\n",
        "    album_label = album_label.replace(\"_\", \" \")\n",
        "    album_label = str(album_label)\n",
        "\n",
        "    sparql.setQuery(f'SELECT ?album WHERE {{ ?album rdfs:label \"{album_label}\" }}')\n",
        "    sparql.setReturnFormat(\"csv\")\n",
        "    results = sparql.query()\n",
        "    results = results.convert()\n",
        "    results = results.decode().split()\n",
        "    # remove the first result \"album\", which represent the bindings of the results\n",
        "    results.pop(0)\n",
        "    if len(results) > 0:\n",
        "        flag_3 = True\n",
        "        dbr_album_3_results = [] # useful later if I get more than one result\n",
        "        for album in results:\n",
        "            if 'http://dbpedia.org/resource/' in album:\n",
        "                try:\n",
        "                    dbr_album = album.replace(\"http://dbpedia.org/resource/\", \"\")\n",
        "                    dbr_album_3_results.append(dbr_album)\n",
        "                except:\n",
        "                    continue\n",
        "        for dbr_album_3 in dbr_album_3_results:\n",
        "            try:\n",
        "                rdf_graph.add((dbr[dbr_album_3], OWL.sameAs, album))\n",
        "                rdf_graph.add((dbr[dbr_album_3], RDF.type, dbo.Album))\n",
        "            except:\n",
        "                continue\n",
        "\n",
        "    ############################################################################\n",
        "    ############################################################################\n",
        "    ############################################################################\n",
        "    # Artist\n",
        "    dbr_artist = artist.replace(\"http://example.org/DataFrame/\", \"http://dbpedia.org/resource/\")\n",
        "\n",
        "    # dbo:Artist or dbo:MusicalArtist or dbo:Group | FLAG_4\n",
        "    sparql.setQuery(f\"ASK {{ {{<{dbr_artist}> a dbo:Artist }} UNION {{<{dbr_artist}> a dbo:MusicalArtist }} UNION {{<{dbr_artist}> a dbo:Group }} }}\")\n",
        "    sparql.setReturnFormat('json')\n",
        "    results = sparql.query().convert()\n",
        "    if results['boolean'] is True:\n",
        "        flag_3 = True\n",
        "        artist_name_1 = dbr_artist.replace(\"http://dbpedia.org/resource/\", \"\")\n",
        "        rdf_graph.add((dbr[artist_name_1], OWL.sameAs, artist))\n",
        "        rdf_graph.add((dbr[artist_name_1], RDF.type, dbo.Artist))\n",
        "\n",
        "    ############################################################################\n",
        "    # artist linked with rdfs:label and a string | FLAG_5\n",
        "    artist_label = artist.replace(\"http://example.org/DataFrame/\", \"\")\n",
        "    artist_label = artist_label.replace(\"_\", \" \")\n",
        "    artist_label = str(artist_label)\n",
        "\n",
        "    sparql.setQuery(f'SELECT ?artist WHERE {{ ?artist rdfs:label \"{artist_label}\" }}')\n",
        "    sparql.setReturnFormat(\"csv\")\n",
        "    results = sparql.query()\n",
        "    results = results.convert()\n",
        "    results = results.decode().split()\n",
        "    # remove the first result \"artist\", which represent the bindings of the results\n",
        "    results.pop(0)\n",
        "    if len(results) > 0:\n",
        "        flag_5 = True\n",
        "        dbr_artist_2_results = [] # useful later if I get more than one result\n",
        "        for artist in results:\n",
        "            if 'http://dbpedia.org/resource/' in artist :\n",
        "                try:\n",
        "                    dbr_artist = artist.replace(\"http://dbpedia.org/resource/\", \"\")\n",
        "                    dbr_artist_2_results.append(dbr_artist)\n",
        "                except:\n",
        "                    continue\n",
        "        for dbr_artist_2 in dbr_artist_2_results:\n",
        "            try:\n",
        "                rdf_graph.add((dbr[dbr_artist_2], OWL.sameAs, artist))\n",
        "                rdf_graph.add((dbr[dbr_artist_2], RDF.type, dbo.Artist))\n",
        "            except:\n",
        "                continue\n",
        "\n",
        "    ############################################################################\n",
        "    # add the relation album-artist (dbo:artist)\n",
        "    # I use the flags to see what is the correct option like 'name' or 'name_(album)'\n",
        "    if flag_1 is True and flag_4 is True:\n",
        "        rdf_graph.add((dbr[album_1], dbo.artist, dbr[artist_name_1]))\n",
        "    if flag_2 is True and flag_4 is True:\n",
        "        rdf_graph.add((dbr[album_2], dbo.artist, dbr[artist_name_1]))\n",
        "    if flag_3 is True and flag_4 is True:\n",
        "        for album_3 in dbr_album_3_results:\n",
        "            rdf_graph.add((dbr[album_3], dbo.artist, dbr[artist_name_1]))\n",
        "    if flag_1 is True and flag_5 is True:\n",
        "        for artist_name_2 in dbr_artist_2_results:\n",
        "            rdf_graph.add((dbr[album_1], dbo.artist, dbr[artist_name_2]))\n",
        "    if flag_2 is True and flag_5 is True:\n",
        "        for artist_name_2 in dbr_artist_2_results:\n",
        "            rdf_graph.add((dbr[album_2], dbo.artist, dbr[artist_name_2]))\n",
        "    if flag_3 is True and flag_5 is True:\n",
        "        for album_3 in dbr_album_3_results:\n",
        "            for artist_name_2 in dbr_artist_2_results:\n",
        "                rdf_graph.add((dbr[album_3], dbo.artist, dbr[artist_name_2]))"
      ]
    },
    {
      "cell_type": "code",
      "execution_count": null,
      "id": "GBUpAYxObWIl",
      "metadata": {
        "colab": {
          "base_uri": "https://localhost:8080/"
        },
        "id": "GBUpAYxObWIl",
        "outputId": "0d821ec4-c108-471f-c277-bb869fb2e482"
      },
      "outputs": [
        {
          "data": {
            "text/plain": [
              "<Graph identifier=N3948b1d4a19d48eeb33615b6dd375aa0 (<class 'rdflib.graph.Graph'>)>"
            ]
          },
          "execution_count": 34,
          "metadata": {},
          "output_type": "execute_result"
        }
      ],
      "source": [
        "# SAVE ON DISK\n",
        "rdf_graph.serialize(destination=\"./data/graph_02.ttl\")"
      ]
    },
    {
      "cell_type": "markdown",
      "id": "64Ldj8SE8FVd",
      "metadata": {
        "id": "64Ldj8SE8FVd"
      },
      "source": [
        "---\n",
        "**Considerations:**\n",
        "\n",
        "Before of running this cell (in /data/graph_01.ttl) we have 79,884 lines.\n",
        "\n",
        "After this operations (in /data/graph_02.ttl) we have 92,271 lines.\n",
        "\n",
        "Our merged df (/data/merged_dataframe.csv)  have 5205 rows.\n",
        "\n",
        "My operations in this cells should add (if we suppose that everything is working perfectly, every URI is perfectly metched with the one in DBpedia) 5 triples for each pair `album, artist in rdf_graph.subject_objects(df.artist)`, that in total should be approximately 26,250 triples.\n",
        "\n",
        "So, more or less, we can say that 2500 pairs album, artist are been matched correctly, kind of half of our entities."
      ]
    },
    {
      "cell_type": "markdown",
      "id": "tR4-Hog7erDS",
      "metadata": {
        "id": "tR4-Hog7erDS"
      },
      "source": [
        "### 2.2 ) Enrich my informations with DBpedia"
      ]
    },
    {
      "cell_type": "markdown",
      "id": "xn2RfRpueqxo",
      "metadata": {
        "id": "xn2RfRpueqxo"
      },
      "source": [
        "For searching the others possible URIs, that could be used in DBpedia, starting from the properties: `dbp:hometown`, `dbo:birthPlace`, `dbo:country`, `dbo:formerBandMember`, I used mainly **DBpedia lookup endpoint**.\n",
        "\n",
        "I have done query of the kind\n",
        "\n",
        "      ```\n",
        "      SELECT DISTINCT ?p\n",
        "      WHERE {\n",
        "        ?s a dbo:Band .\n",
        "        ?s dbo:formerBandMembers ?o.\n",
        "        ?s ?p ?o .\n",
        "      } LIMIT 10\n",
        "      ```\n",
        "\n",
        "So that I can easily see what other predicates can be used in the same situation of the one in witch I'm interested, using always proper domain.\n",
        "\n",
        "Because a predicate can have different meanings depending on the subject (like `dbo:hometown`), if I do like this (like domain and rage restrictions on the predicate) I can filter much better what predicate is used in a particular way\n",
        "\n",
        "And for kind of more specific/precise predicate I searched for some known entity, and seen on DBpedia by means of what predicates was linked with other entities"
      ]
    },
    {
      "cell_type": "markdown",
      "id": "mtjisPTWgSeT",
      "metadata": {
        "id": "mtjisPTWgSeT"
      },
      "source": [
        "---\n",
        "**Band members**\n",
        "      \n",
        "      < band  ?p ?bandMember >\n",
        "      \n",
        "where ?p is: `dbo:bandMember`, `dbp:currentMembers`, `dbo:formerBandMember`, `dbp:pastMembers`\n",
        "\n",
        "---\n",
        "\n",
        "**City and country of birth of members**\n",
        "\n",
        "      < member  ?p1 ?cityOfBirth >\n",
        "      < ?cityOfBirth ?p2 ?countryOfBirth >\n",
        "\n",
        "where ?p1 is:  `dbo:hometown`, `dbp:hometown`, `dbo:birthPlace`, `dbp:birthPlace`, `dbp:origin`\n",
        "\n",
        "and ?p2 is: `dbo:country`, `dbp:country`, `dbo:subdivision / dbo:country` (the last for cities in the united states)\n",
        "\n",
        "---\n",
        "\n",
        "**Founding city and country of the band**\n",
        "\n",
        "      < band  ?p1 ?foundingCity >\n",
        "      < ?foundingCity ?p2 ?foundingCountry >\n",
        "\n",
        "where ?p1 is: `dbo:hometown`, `dbp:hometown`, `dbo:birthPlace`, `dbp:birthPlace`, `dbp:origin`\n",
        "\n",
        "and ?p2 is: `dbo:country`, `dbp:country`, `dbo:subdivision / dbo:country` (the last one for cities in the united states)\n"
      ]
    },
    {
      "cell_type": "markdown",
      "id": "_f454r8qmV5m",
      "metadata": {
        "id": "_f454r8qmV5m"
      },
      "source": [
        "I tried to search more options possible when i do the query on the DBpedia endpoint, but then in the graph I added only one option for the property that we have searched, to keep the graph more light as possible.\n",
        "\n",
        "Here I have a simple rapresentation, for example the band will be linked to the founding country with `dbp:hometown / dbo:country`, I will create a new URI that will be directly linked to what we want, like `df:foundingCountry` when we will build the ontology in the point 4."
      ]
    },
    {
      "cell_type": "markdown",
      "id": "nlhk0lbUVG2v",
      "metadata": {
        "id": "nlhk0lbUVG2v"
      },
      "source": [
        "The way that I found as the simplest for updating my graph is to run a `CONSTRUCT` query with the sparqlwrapper, save the result and then make the union between the resulting graph and my current graph."
      ]
    },
    {
      "cell_type": "markdown",
      "id": "5wIvE5-25kJt",
      "metadata": {
        "id": "5wIvE5-25kJt"
      },
      "source": [
        "Since I have a lot of data, to improve slightly the performances of the program, what I can do is to store every band that I analyze in a set and, before doing my queries, I check if the current band that I'm analyzing is already in this set. Since is useless checking members, birthPlace... and so on, for the same entity multiple times."
      ]
    },
    {
      "cell_type": "code",
      "execution_count": null,
      "id": "ezUdPJNdWUUK",
      "metadata": {
        "id": "ezUdPJNdWUUK"
      },
      "outputs": [],
      "source": [
        "# Load the graph of the previous stage, without having to redo everything\n",
        "rdf_graph = Graph().parse(\"./data/graph_02.ttl\")\n",
        "\n",
        "df = Namespace('http://example.org/DataFrame/')\n",
        "dbp = Namespace('http://dbpedia.org/property/')\n",
        "dbo = Namespace('http://dbpedia.org/ontology/')\n",
        "dbr = Namespace('http://dbpedia.org/resource/')\n",
        "rdf_graph.bind('df', 'http://example.org/DataFrame/')\n",
        "rdf_graph.bind('dbp', 'http://dbpedia.org/property/')\n",
        "rdf_graph.bind('dbo', 'http://dbpedia.org/ontology/')\n",
        "rdf_graph.bind('dbr', 'http://dbpedia.org/resource/')"
      ]
    },
    {
      "cell_type": "code",
      "execution_count": null,
      "id": "sff-HhYMIjiJ",
      "metadata": {
        "id": "sff-HhYMIjiJ"
      },
      "outputs": [],
      "source": [
        "already_analized_bands = set()\n",
        "\n",
        "# Retrieve every s, o linked by df.artist, that are album and artist\n",
        "for band in rdf_graph.subjects(RDF.type, dbo.Artist):\n",
        "    if band not in already_analized_bands:\n",
        "        # Band members and former band members\n",
        "        query = f\"\"\"\n",
        "        CONSTRUCT {{\n",
        "            <{band}> a dbo:Band;\n",
        "                     dbo:bandMember ?bandMember;\n",
        "                     dbo:formerBandMember ?formerBandMember.\n",
        "        }}\n",
        "\n",
        "        WHERE {{\n",
        "            <{band}> a dbo:Band.\n",
        "\n",
        "            {{ <{band}> dbo:bandMember ?bandMember }}\n",
        "            UNION\n",
        "            {{ <{band}> dbp:currentMembers ?bandMember }}\n",
        "\n",
        "            OPTIONAL {{\n",
        "                {{ <{band}> dbo:formerBandMember ?formerBandMember }}\n",
        "                UNION\n",
        "                {{ <{band}> dbp:pastMembers ?formerBandMember }}\n",
        "            }}\n",
        "        }}\n",
        "        \"\"\"\n",
        "\n",
        "        sparql.setQuery(query)\n",
        "        sparql.setReturnFormat(\"xml\")\n",
        "        results = sparql.query().convert()\n",
        "        rdf_graph += results\n",
        "\n",
        "        ########################################################################\n",
        "        # founding city and country for the bands\n",
        "        query = f\"\"\"\n",
        "        CONSTRUCT {{\n",
        "            <{band}> dbp:hometown ?foundingCity.\n",
        "            ?foundingCity dbo:country ?foundingCountry.\n",
        "        }}\n",
        "\n",
        "        WHERE {{\n",
        "            <{band}> a dbo:Band.\n",
        "            ?foundingCity a dbo:City.\n",
        "\n",
        "            {{ <{band}> dbo:hometown ?foundingCity }}\n",
        "            UNION\n",
        "            {{ <{band}> dbp:hometown ?foundingCity }}\n",
        "            UNION\n",
        "            {{ <{band}> dbo:birthPlace ?foundingCity }}\n",
        "            UNION\n",
        "            {{ <{band}> dbp:birthPlace ?foundingCity }}\n",
        "            UNION\n",
        "            {{ <{band}> dbp:origin ?foundingCity }}\n",
        "\n",
        "            OPTIONAL {{\n",
        "                ?foundingCountry a dbo:Country\n",
        "                {{ ?foundingCity dbo:country ?foundingCountry }}\n",
        "                UNION\n",
        "                {{ ?foundingCity dbp:country ?foundingCountry }}\n",
        "                UNION\n",
        "                {{ ?foundingCity dbo:subdivision / dbo:country ?foundingCountry }}\n",
        "            }}\n",
        "        }}\n",
        "        \"\"\"\n",
        "        sparql.setQuery(query)\n",
        "        sparql.setReturnFormat(\"xml\")\n",
        "        results = sparql.query().convert()\n",
        "        rdf_graph += results\n",
        "\n",
        "        # add the current band to the set of the analyzed bands\n",
        "        already_analized_bands.add(band)\n"
      ]
    },
    {
      "cell_type": "code",
      "execution_count": null,
      "id": "Hy_I6Ot7n3V2",
      "metadata": {
        "colab": {
          "base_uri": "https://localhost:8080/"
        },
        "id": "Hy_I6Ot7n3V2",
        "outputId": "f92505b0-f003-4ad6-a4f4-aa27d5185f07"
      },
      "outputs": [
        {
          "data": {
            "text/plain": [
              "<Graph identifier=Nf0ca5e3c78fe42acaf5189d5b992e8e3 (<class 'rdflib.graph.Graph'>)>"
            ]
          },
          "execution_count": 38,
          "metadata": {},
          "output_type": "execute_result"
        }
      ],
      "source": [
        "# SAVE ON DISK\n",
        "rdf_graph.serialize(destination=\"./data/graph_03.ttl\")"
      ]
    },
    {
      "cell_type": "markdown",
      "id": "qfDSaLG7owj8",
      "metadata": {
        "id": "qfDSaLG7owj8"
      },
      "source": [
        "Now I do kind of the same, but for the members, so I do a for loop using `rdf_graph.objects(None, dbo.bandMember)`, that gives an iteration on every object of this kind, that are the members of the bands. I are helping us to do a simpler iteration, finding directly the members, I am not searching anymore via the bands, but I use the informations on my graph."
      ]
    },
    {
      "cell_type": "code",
      "execution_count": null,
      "id": "h3tSsASpDRjZ",
      "metadata": {
        "id": "h3tSsASpDRjZ"
      },
      "outputs": [],
      "source": [
        "# Load the graph of the previous stage, without having to redo everything\n",
        "rdf_graph = Graph().parse(\"./data/graph_03.ttl\")\n",
        "\n",
        "df = Namespace('http://example.org/DataFrame/')\n",
        "dbp = Namespace('http://dbpedia.org/property/')\n",
        "dbo = Namespace('http://dbpedia.org/ontology/')\n",
        "dbr = Namespace('http://dbpedia.org/resource/')\n",
        "rdf_graph.bind('df', 'http://example.org/DataFrame/')\n",
        "rdf_graph.bind('dbp', 'http://dbpedia.org/property/')\n",
        "rdf_graph.bind('dbo', 'http://dbpedia.org/ontology/')\n",
        "rdf_graph.bind('dbr', 'http://dbpedia.org/resource/')\n"
      ]
    },
    {
      "cell_type": "code",
      "execution_count": null,
      "id": "MP41pmE8_M6l",
      "metadata": {
        "id": "MP41pmE8_M6l"
      },
      "outputs": [],
      "source": [
        "already_analized_members = set()\n",
        "\n",
        "# member is every entity that iis object of a triple that have as predicate dbo.bandMember\n",
        "# (based on how I have build the graph in the previous step)\n",
        "for member in rdf_graph.objects(None, dbo.bandMember):\n",
        "    if member not in already_analized_members:\n",
        "        # I don't check for literals or something else\n",
        "        if \"http://dbpedia.org\" in member:\n",
        "        # city and country of birth for the members\n",
        "            query = f\"\"\"\n",
        "            CONSTRUCT {{\n",
        "                <{member}> dbo:birthPlace ?cityOfBirth.\n",
        "                ?cityOfBirth dbo:country ?countryOfBirth.\n",
        "            }}\n",
        "\n",
        "            WHERE {{\n",
        "                <{member}> a dbo:Person.\n",
        "                ?cityOfBirth a dbo:City.\n",
        "\n",
        "                {{ <{member}> dbo:hometown ?cityOfBirth }}\n",
        "                UNION\n",
        "                {{ <{member}> dbp:hometown ?cityOfBirth }}\n",
        "                UNION\n",
        "                {{ <{member}> dbo:birthPlace ?cityOfBirth }}\n",
        "                UNION\n",
        "                {{ <{member}> dbp:birthPlace ?cityOfBirth }}\n",
        "                UNION\n",
        "                {{ <{member}> dbp:origin ?cityOfBirth }}\n",
        "\n",
        "                OPTIONAL {{\n",
        "                    ?countryOfBirth a dbo:Country\n",
        "\n",
        "                    {{ ?cityOfBirth dbo:country ?countryOfBirth }}\n",
        "                    UNION\n",
        "                    {{ ?cityOfBirth dbp:country ?countryOfBirth }}\n",
        "                    UNION\n",
        "                    {{ ?cityOfBirth dbo:subdivision / dbo:country ?countryOfBirth }}\n",
        "                }}\n",
        "            }}\n",
        "            \"\"\"\n",
        "\n",
        "            sparql.setQuery(query)\n",
        "            sparql.setReturnFormat(\"xml\")\n",
        "            results = sparql.query().convert()\n",
        "            rdf_graph += results\n",
        "\n",
        "            # add the current member to the set of the analyzed members\n",
        "            already_analized_members.add(member)"
      ]
    },
    {
      "cell_type": "code",
      "execution_count": null,
      "id": "vbkGExq_VoH8",
      "metadata": {
        "colab": {
          "base_uri": "https://localhost:8080/"
        },
        "id": "vbkGExq_VoH8",
        "outputId": "79accafe-403e-4b5a-fa84-e92d01d76adb"
      },
      "outputs": [
        {
          "data": {
            "text/plain": [
              "<Graph identifier=N9bfe2aafc2ee439897a674d258c318ef (<class 'rdflib.graph.Graph'>)>"
            ]
          },
          "execution_count": 41,
          "metadata": {},
          "output_type": "execute_result"
        }
      ],
      "source": [
        "# SAVE ON DISK\n",
        "rdf_graph.serialize(destination=\"./data/graph_04.ttl\")"
      ]
    },
    {
      "cell_type": "markdown",
      "id": "6c66fbc6",
      "metadata": {
        "id": "6c66fbc6"
      },
      "source": [
        "## **`3. Gathering Information from unstructured data`**\n"
      ]
    },
    {
      "cell_type": "markdown",
      "id": "kHL-FevA-u9F",
      "metadata": {
        "id": "kHL-FevA-u9F"
      },
      "source": [
        "What I will do in steps:\n",
        "1. get the article from Wikipedia and extract the summary, using [Wikipedia-api](https://pypi.org/project/Wikipedia-API/)\n",
        "      ```\n",
        "    wiki_wiki = wikipediaapi.Wikipedia('en')\n",
        "    page_py = wiki_wiki.page('Kurt Cobain')\n",
        "\n",
        "    if page_py.exists():\n",
        "        summary = page_py.summary[:200]\n",
        "        print(\"Page - Summary: %s\" % summary)\n",
        "    else:\n",
        "        print(\"Page does not exist.\")\n",
        "      ```\n",
        "\n",
        "    \n",
        "2. extract the band member role (guitarist, bassist, keyboardist, singer, drummer, etc) using simple pattern matchig with my set, if some artists have multiple roles, I add them all,\n",
        "3. add this information to the KG."
      ]
    },
    {
      "cell_type": "code",
      "execution_count": null,
      "id": "87b18550",
      "metadata": {
        "id": "87b18550"
      },
      "outputs": [],
      "source": [
        "# Load the graph of the previous stage, without having to redo everything\n",
        "rdf_graph = Graph().parse(\"./data/graph_04.ttl\")\n",
        "\n",
        "df = Namespace('http://example.org/DataFrame/')\n",
        "dbp = Namespace('http://dbpedia.org/property/')\n",
        "dbo = Namespace('http://dbpedia.org/ontology/')\n",
        "dbr = Namespace('http://dbpedia.org/resource/')\n",
        "rdf_graph.bind('df', 'http://example.org/DataFrame/')\n",
        "rdf_graph.bind('dbp', 'http://dbpedia.org/property/')\n",
        "rdf_graph.bind('dbo', 'http://dbpedia.org/ontology/')\n",
        "rdf_graph.bind('dbr', 'http://dbpedia.org/resource/')\n"
      ]
    },
    {
      "cell_type": "markdown",
      "id": "lVo498Oc1Dmw",
      "metadata": {
        "id": "lVo498Oc1Dmw"
      },
      "source": [
        "Here I have generated a simple set for pattern matching, and the role that I will use."
      ]
    },
    {
      "cell_type": "code",
      "execution_count": null,
      "id": "cOeBE6EYn-7z",
      "metadata": {
        "id": "cOeBE6EYn-7z"
      },
      "outputs": [],
      "source": [
        "# We create a new namespace for the inferences that we will add\n",
        "wiki = Namespace('http://example.org/WikipediaApi/')\n",
        "rdf_graph.bind('wiki', 'http://example.org/WikipediaApi/')\n",
        "\n",
        "wiki['role']\n",
        "\n",
        "# set with possible roles\n",
        "roles_set = {\n",
        "    \"Lead Vocalist\",\"Singer\", \"Backing Vocalist\", \"Vocalist\", \"Lead Guitarist\",\n",
        "     \"Guitarist\", \"Rhythm Guitarist\", \"Bassist\", \"Drummer\", \"Keyboardist\",\n",
        "     \"Pianist\", \"Synthesizer Player\", \"Saxophonist\", \"Trumpeter\", \"Trombonist\",\n",
        "     \"Violinist\", \"Cellist\", \"Flutist\", \"Clarinetist\", \"Percussionist\",\n",
        "     \"Director\", \"Sampler\", \"Programmer\", \"Beatboxer\", \"Backup\",\n",
        "     \"Session Musician\", \"Songwriter\", \"Composer\", \"Sound Engineer\",\n",
        "     \"Musical Director\", \"DJ\", \"Conductor\", \"Producer\", \"Roadie\", \"Technician\"\n",
        "}\n"
      ]
    },
    {
      "cell_type": "markdown",
      "id": "Hdb9V1AA1S0K",
      "metadata": {
        "id": "Hdb9V1AA1S0K"
      },
      "source": [
        "Now we iterate over each band member, and with some simple string operation we transform the URI to something that can be easily searched on Wikipedia. Then finally, after we have extracted the summary, we do an operation of simple pattern matching with the set of roles.\n",
        "\n",
        "We will add name in the graph in the following way:\n",
        "\n",
        "    < dbr_member wiki:role wiki:role_name >"
      ]
    },
    {
      "cell_type": "code",
      "execution_count": null,
      "id": "Flwo_xk61SZY",
      "metadata": {
        "id": "Flwo_xk61SZY"
      },
      "outputs": [],
      "source": [
        "already_analized_members = set()\n",
        "\n",
        "# SETTING FOR WIKIPEDIAAPI\n",
        "# Specify the user agent\n",
        "user_agent = \"krr2Project/1.0 (alessandro.ghiotto01@universitadipavia.it) Python/3.10.12 WikipediaAPI/0.6.0\"\n",
        "\n",
        "# Create Wikipedia object with the specified user agent\n",
        "wiki_wiki = wikipediaapi.Wikipedia(\n",
        "    language='en',\n",
        "    extract_format=wikipediaapi.ExtractFormat.WIKI,\n",
        "    user_agent=user_agent\n",
        ")\n",
        "\n",
        "# iterate over the members of the bands\n",
        "for member in rdf_graph.objects(None, dbo.bandMember):\n",
        "    if member not in already_analized_members:\n",
        "        # str_member is the string that I will use to search in Wikipedia\n",
        "        str_member = member.replace('http://dbpedia.org/resource/', '')\n",
        "        str_member = str_member.replace('_', ' ')\n",
        "        str_member = str(str_member)\n",
        "\n",
        "        try:\n",
        "            page_py = wiki_wiki.page(str_member)\n",
        "            if page_py.exists():\n",
        "                # If I find the page, nice!\n",
        "                # check the summary and if the roles-keywords appear in it\n",
        "                summary = page_py.summary[:200]\n",
        "\n",
        "                # I check if one (or more) of my roles are present in the summary\n",
        "                # And each one that appears, we append it to a list\n",
        "                found_roles = []\n",
        "                for element in roles_set:\n",
        "                    if element in summary:\n",
        "                        found_roles.append(element)\n",
        "\n",
        "                for role_name in found_roles:\n",
        "                    # Here we add the triples\n",
        "                    rdf_graph.add((member, wiki['role'], wiki[role_name]))\n",
        "        except:\n",
        "            # Handle any API response errors (Do nothing and proceed to the next iteration)\n",
        "            pass\n",
        "\n",
        "        # add the current member to the set of the analyzed members\n",
        "        already_analized_members.add(member)"
      ]
    },
    {
      "cell_type": "code",
      "execution_count": null,
      "id": "7HC-bF0g8mtt",
      "metadata": {
        "colab": {
          "base_uri": "https://localhost:8080/"
        },
        "id": "7HC-bF0g8mtt",
        "outputId": "946062f7-976e-4da1-a6a9-af7a228080b1"
      },
      "outputs": [
        {
          "data": {
            "text/plain": [
              "<Graph identifier=Nd80d70ee1cf44ee291e1e8bac1cbfcbe (<class 'rdflib.graph.Graph'>)>"
            ]
          },
          "execution_count": 45,
          "metadata": {},
          "output_type": "execute_result"
        }
      ],
      "source": [
        "# SAVE ON DISK\n",
        "rdf_graph.serialize(destination=\"./data/graph_05.ttl\")"
      ]
    },
    {
      "cell_type": "markdown",
      "id": "03677112-ebe7-4ec8-9bfa-16380b6fcb60",
      "metadata": {
        "id": "03677112-ebe7-4ec8-9bfa-16380b6fcb60"
      },
      "source": [
        "## **`4. Include a small ontology and a  genres taxonomy`**\n",
        "\n"
      ]
    },
    {
      "cell_type": "markdown",
      "id": "CCoSB3AVyaJz",
      "metadata": {
        "id": "CCoSB3AVyaJz"
      },
      "source": [
        "### 4.1 ) Domain and range restictions"
      ]
    },
    {
      "cell_type": "markdown",
      "id": "R7pkOcULyTQD",
      "metadata": {
        "id": "R7pkOcULyTQD"
      },
      "source": [
        "Here we Add the domain and range for each property you use. This will be needed later when I will apply the reasoner for inferring the types of the entities on my KG.\n",
        "\n",
        "Since now I'm working only my current graph (`rdf_graph`), I can use the RDFLib, which comes with an implementation of the [SPARQL 1.1 Query](https://www.w3.org/TR/sparql11-query/) and [SPARQL 1.1 Update](https://www.w3.org/TR/sparql11-update/) query languages.\n",
        "This is useful since I need to run SPARQL queries on my RDFLib's `Graph` objects.\n",
        "So now I can run SPARQL Update (insert, delete) queries that can be run using the method `update` rather than `query`; that is a bit more convinient than saving results of a `construct` query as graph, and then make the union with my graph."
      ]
    },
    {
      "cell_type": "markdown",
      "id": "uoEI_99D4bU-",
      "metadata": {
        "id": "uoEI_99D4bU-"
      },
      "source": [
        "      # ------------------------------------------------- #\n",
        "      |                      SCHEMA                       |\n",
        "      # ------------------------------------------------- #\n",
        "      ```\n",
        "      df:artist rdfs:domain df:Album ; rdfs:range df:Artist .\n",
        "      df:genre rdfs:domain df:Album ; rdfs:range df:Genre .\n",
        "      df:subgenre rdfs:domain df:Album ; rdfs:range df:Subgenre .\n",
        "      dbo:artist rdfs:domain dbo:Album ; rdfs:range dbo:Artist .\n",
        "      dbo:bandMember rdfs:domain dbo:Band ; rdfs:range dbo:BandMember .\n",
        "      dbp:hometown rdfs:domain dbo:Band ; rdfs:range dbo:City .\n",
        "      dbo:birthPlace rdfs:domain dbo:Person ; rdfs:range dbo:City .\n",
        "      dbo:country rdfs:domain dbo:City  ; rdfs:range dbo:Country .\n",
        "      wiki:role rdfs:domain dbo:BandMember ; rdfs:range wiki:MusicRole.\n",
        "      ```\n"
      ]
    },
    {
      "cell_type": "code",
      "execution_count": null,
      "id": "DpjmkuVa1H75",
      "metadata": {
        "id": "DpjmkuVa1H75"
      },
      "outputs": [],
      "source": [
        "# Load the graph of the previous stage, without having to redo everything\n",
        "rdf_graph = Graph().parse(\"./data/graph_05.ttl\")\n",
        "\n",
        "df = Namespace('http://example.org/DataFrame/')\n",
        "dbp = Namespace('http://dbpedia.org/property/')\n",
        "dbo = Namespace('http://dbpedia.org/ontology/')\n",
        "dbr = Namespace('http://dbpedia.org/resource/')\n",
        "wiki = Namespace('http://example.org/WikipediaApi/')\n",
        "rdf_graph.bind('df', 'http://example.org/DataFrame/')\n",
        "rdf_graph.bind('dbp', 'http://dbpedia.org/property/')\n",
        "rdf_graph.bind('dbo', 'http://dbpedia.org/ontology/')\n",
        "rdf_graph.bind('dbr', 'http://dbpedia.org/resource/')\n",
        "rdf_graph.bind('wiki', 'http://example.org/WikipediaApi/')"
      ]
    },
    {
      "cell_type": "code",
      "execution_count": null,
      "id": "eVyqpMFB9S5u",
      "metadata": {
        "id": "eVyqpMFB9S5u"
      },
      "outputs": [],
      "source": [
        "# SCHEMA\n",
        "schema = (\n",
        "    (df.artist, RDFS.domain, df.Album),         (df.artist, RDFS.range, df.Artist),\n",
        "    (df.genre, RDFS.domain, df.Album),          (df.genre, RDFS.range, df.Genre),\n",
        "    (df.subgenre, RDFS.domain, df.Album),       (df.subgenre, RDFS.range, df.Subgenre),\n",
        "    (dbo.artist, RDFS.domain, dbo.Album),       (dbo.artist, RDFS.range, dbo.Artist),\n",
        "    (dbo.bandMember, RDFS.domain, dbo.Band),    (dbo.bandMember, RDFS.range, dbo.BandMember),\n",
        "    (dbp.hometown, RDFS.domain, dbo.Band),      (dbp.hometown, RDFS.range, dbo.City),\n",
        "    (dbo.birthPlace, RDFS.domain, dbo.Person),  (dbo.birthPlace, RDFS.range, dbo.City),\n",
        "    (dbo.country, RDFS.domain, dbo.City),       (dbo.country, RDFS.range, dbo.Country),\n",
        "    (wiki.role, RDFS.domain, dbo.BandMember),   (wiki.role, RDFS.range, wiki.MusicRole),\n",
        ")\n",
        "\n",
        "for triple in schema:\n",
        "    rdf_graph.add(triple)"
      ]
    },
    {
      "cell_type": "code",
      "execution_count": null,
      "id": "8TXs9XxF9gqr",
      "metadata": {
        "colab": {
          "base_uri": "https://localhost:8080/"
        },
        "id": "8TXs9XxF9gqr",
        "outputId": "6814a934-379c-4d9c-989e-cc9434d2a1b6"
      },
      "outputs": [
        {
          "data": {
            "text/plain": [
              "<Graph identifier=Nbd58458fdc194fbfb740c767c4162f36 (<class 'rdflib.graph.Graph'>)>"
            ]
          },
          "execution_count": 48,
          "metadata": {},
          "output_type": "execute_result"
        }
      ],
      "source": [
        "# SAVE ON DISK\n",
        "rdf_graph.serialize(destination=\"./data/graph_06.ttl\")"
      ]
    },
    {
      "cell_type": "markdown",
      "id": "qsgol_dFyj4d",
      "metadata": {
        "id": "qsgol_dFyj4d"
      },
      "source": [
        "### 4.2 ) Genres taxonomy"
      ]
    },
    {
      "cell_type": "markdown",
      "id": "06f89ab2-6eb5-4d14-9366-59f4da8603b2",
      "metadata": {
        "id": "06f89ab2-6eb5-4d14-9366-59f4da8603b2"
      },
      "source": [
        "Extract a genres taxonomy from the dataset and I include it in my RDF KG. This will be useful later for inferring genres from subgenres.\n",
        "\n",
        "In my graph I have something of this kind:\n",
        "\n",
        "      df:Album_name df:genre df:genre_name;\n",
        "                    df:subgenre df:subgenre_name.\n",
        "\n",
        "My idea is to retrieve each genre and subgenre linked with every album that I have stored in my KG. Then for every possible pair genre-subgenre (linked to the same album) I add the triple `(genre, RDFS.subClassOf, subgenre)` if the string corresponding to the genre is contained in the string corresponding to the subgenre.\n",
        "\n",
        "      df:#1_Record df:genre df:Folk,\n",
        "                            df:Pop,\n",
        "                            df:Rock;\n",
        "                   df:subgenre df:Folk_Pop,\n",
        "                               df:Power_Pop.\n",
        "\n",
        "For example in this situation I get as genres `df:Folk`, `df:Pop`, `df:Rock`, and as subgenres `df:Folk_Pop` and `df:Power_Pop`.\n",
        "\n",
        "I want to add for example `df:Folk_Pop rdfs:subClassOf df:Folk`, but not `df:Folk_Pop rdfs:subClassOf df:Rock`.\n",
        "\n",
        "I use sets, so I don't get duplicates."
      ]
    },
    {
      "cell_type": "code",
      "execution_count": null,
      "id": "ysDpZLaM2jHS",
      "metadata": {
        "id": "ysDpZLaM2jHS"
      },
      "outputs": [],
      "source": [
        "# Load the graph of the previous stage, without having to redo everything\n",
        "rdf_graph = Graph().parse(\"./data/graph_06.ttl\")\n",
        "\n",
        "df = Namespace('http://example.org/DataFrame/')\n",
        "dbp = Namespace('http://dbpedia.org/property/')\n",
        "dbo = Namespace('http://dbpedia.org/ontology/')\n",
        "dbr = Namespace('http://dbpedia.org/resource/')\n",
        "wiki = Namespace('http://example.org/WikipediaApi/')\n",
        "rdf_graph.bind('df', 'http://example.org/DataFrame/')\n",
        "rdf_graph.bind('dbp', 'http://dbpedia.org/property/')\n",
        "rdf_graph.bind('dbo', 'http://dbpedia.org/ontology/')\n",
        "rdf_graph.bind('dbr', 'http://dbpedia.org/resource/')\n",
        "rdf_graph.bind('wiki', 'http://example.org/WikipediaApi/')"
      ]
    },
    {
      "cell_type": "code",
      "execution_count": null,
      "id": "FQQYUCZSiZe4",
      "metadata": {
        "id": "FQQYUCZSiZe4"
      },
      "outputs": [],
      "source": [
        "# create two sets in witch I will store my genres and subgenres\n",
        "genres_set = set()\n",
        "subgenres_set = set()\n",
        "\n",
        "# I do an iteration over the Albums\n",
        "for album in rdf_graph.subjects(df.genre, None):\n",
        "\n",
        "    query = f\"\"\"\n",
        "        SELECT ?genre ?subgenre\n",
        "        WHERE {{\n",
        "            <{album}> df:genre ?genre ;\n",
        "                      df:subgenre ?subgenre.\n",
        "        }}\n",
        "    \"\"\"\n",
        "    results = rdf_graph.query(query)\n",
        "\n",
        "    for res in results:\n",
        "        genres_set.add(res['genre'])\n",
        "        subgenres_set.add(res['subgenre'])\n",
        "\n",
        "\n",
        "def has_only_one_word(input_string):\n",
        "    words = input_string.split()\n",
        "    return len(words) == 1\n",
        "\n",
        "# now I check each possible pair genre-subgenre\n",
        "for genre in genres_set:\n",
        "    genre_str = genre.replace('http://example.org/DataFrame/', '')\n",
        "    genre_str = genre_str.replace('_', ' ')\n",
        "\n",
        "    if has_only_one_word(genre_str):\n",
        "        for subgenre in subgenres_set:\n",
        "            subgenre_str = subgenre.replace('http://example.org/DataFrame/', '')\n",
        "            subgenre_str = subgenre_str.replace('_', ' ')\n",
        "\n",
        "            if genre_str in subgenre_str:\n",
        "                rdf_graph.add((subgenre, RDFS.subClassOf, genre))\n"
      ]
    },
    {
      "cell_type": "code",
      "execution_count": null,
      "id": "HElfjEJhpcSF",
      "metadata": {
        "colab": {
          "base_uri": "https://localhost:8080/"
        },
        "id": "HElfjEJhpcSF",
        "outputId": "c37fc902-b476-4f5c-b2f8-59c97c72937a"
      },
      "outputs": [
        {
          "data": {
            "text/plain": [
              "<Graph identifier=N0429d6fed8bd41aa9c9d014fbcca6a1c (<class 'rdflib.graph.Graph'>)>"
            ]
          },
          "execution_count": 51,
          "metadata": {},
          "output_type": "execute_result"
        }
      ],
      "source": [
        "# SAVE ON DISK\n",
        "rdf_graph.serialize(destination=\"./data/graph_07.ttl\")"
      ]
    },
    {
      "cell_type": "markdown",
      "id": "0GZoexQpjc_N",
      "metadata": {
        "id": "0GZoexQpjc_N"
      },
      "source": [
        "I add that whenever I have `album_name df:genre genre_name`, I add `album_name rdf:type genre_name`"
      ]
    },
    {
      "cell_type": "code",
      "execution_count": null,
      "id": "cW5LtCPapXKX",
      "metadata": {
        "id": "cW5LtCPapXKX"
      },
      "outputs": [],
      "source": [
        "# Load the graph of the previous stage, without having to redo everything\n",
        "rdf_graph = Graph().parse(\"./data/graph_07.ttl\")\n",
        "\n",
        "df = Namespace('http://example.org/DataFrame/')\n",
        "dbp = Namespace('http://dbpedia.org/property/')\n",
        "dbo = Namespace('http://dbpedia.org/ontology/')\n",
        "dbr = Namespace('http://dbpedia.org/resource/')\n",
        "wiki = Namespace('http://example.org/WikipediaApi/')\n",
        "rdf_graph.bind('df', 'http://example.org/DataFrame/')\n",
        "rdf_graph.bind('dbp', 'http://dbpedia.org/property/')\n",
        "rdf_graph.bind('dbo', 'http://dbpedia.org/ontology/')\n",
        "rdf_graph.bind('dbr', 'http://dbpedia.org/resource/')\n",
        "rdf_graph.bind('wiki', 'http://example.org/WikipediaApi/')"
      ]
    },
    {
      "cell_type": "code",
      "execution_count": null,
      "id": "rYE2d6AAjdm1",
      "metadata": {
        "id": "rYE2d6AAjdm1"
      },
      "outputs": [],
      "source": [
        "# UPDATE QUERY\n",
        "\n",
        "rdf_graph.update(\"insert { ?album rdf:type ?genre } WHERE { {?album df:genre ?genre} UNION {?album df:subgenre ?genre} }\")"
      ]
    },
    {
      "cell_type": "code",
      "execution_count": null,
      "id": "-0PRA5mLqDIK",
      "metadata": {
        "colab": {
          "base_uri": "https://localhost:8080/"
        },
        "id": "-0PRA5mLqDIK",
        "outputId": "0943cb49-372e-45e1-d8f9-40566bfbebd3"
      },
      "outputs": [
        {
          "data": {
            "text/plain": [
              "<Graph identifier=N599ab1fae12145c1aa07d448b91f9f57 (<class 'rdflib.graph.Graph'>)>"
            ]
          },
          "execution_count": 54,
          "metadata": {},
          "output_type": "execute_result"
        }
      ],
      "source": [
        "# SAVE ON DISK\n",
        "rdf_graph.serialize(destination=\"./data/graph_08.ttl\")"
      ]
    },
    {
      "cell_type": "markdown",
      "id": "c84075ec",
      "metadata": {
        "id": "c84075ec"
      },
      "source": [
        "## **`5. Materialize inferences`**"
      ]
    },
    {
      "cell_type": "markdown",
      "id": "pV2YVmShrtCN",
      "metadata": {
        "id": "pV2YVmShrtCN"
      },
      "source": [
        "Now I execute some SPARQL update query which, at each step simulate some kind of inference pattern, for example from RDFS, OWLR, and some new rule that I can add.\n",
        "\n",
        "\n",
        "*   `domain` and `range`\n",
        "*   `subClassOf` and `subPropertyOf`\n",
        "*   OWL features, like `owl:sameAs`...\n",
        "*   if I have that `[album] rdf:type [genre1]` and `[genre1] rdfs:subClassOf [genre2]`, add the triple `[album] rdf:type [genre2]`\n",
        "*   for bands:  dbp:hometown ⊑ `mi:foundingCity`\n",
        "*   for bands:  dbp:hometown / dbo:country ⊑ `mi:foundingCountry`\n",
        "*   for people:  dbo:birthPlace ⊑ `mi:cityOfBirth`\n",
        "*   for people:  dbo:birthPlace / dbo:country ⊑ `mi:countryOfBirth`\n",
        "*   `mi:bornIn`: transitive closure of dbp:hometown, dbo:birthPlace and dbo:country\n",
        "*   `mi:genre`: genre of the artist inferred through the genre of the albums\n",
        "*   ` mi:subgenre`: subgenre of the artist inferred through the subgenre of the album\n",
        "*   `mi:subgenre`: subproperty of `mi:genre`\n",
        "\n",
        "I create this new property like `mi:genre`, that are like subproperty of many other more specific property, so it will be easier to query later the graph."
      ]
    },
    {
      "cell_type": "code",
      "execution_count": null,
      "id": "b30047dc",
      "metadata": {
        "id": "b30047dc"
      },
      "outputs": [],
      "source": [
        "# Load the graph of the previous stage, without having to redo everything\n",
        "rdf_graph = Graph().parse(\"./data/graph_08.ttl\")\n",
        "\n",
        "df = Namespace('http://example.org/DataFrame/')\n",
        "dbp = Namespace('http://dbpedia.org/property/')\n",
        "dbo = Namespace('http://dbpedia.org/ontology/')\n",
        "dbr = Namespace('http://dbpedia.org/resource/')\n",
        "wiki = Namespace('http://example.org/WikipediaApi/')\n",
        "rdf_graph.bind('df', 'http://example.org/DataFrame/')\n",
        "rdf_graph.bind('dbp', 'http://dbpedia.org/property/')\n",
        "rdf_graph.bind('dbo', 'http://dbpedia.org/ontology/')\n",
        "rdf_graph.bind('dbr', 'http://dbpedia.org/resource/')\n",
        "rdf_graph.bind('wiki', 'http://example.org/WikipediaApi/')\n"
      ]
    },
    {
      "cell_type": "code",
      "execution_count": null,
      "id": "QyeT_Dibwdb8",
      "metadata": {
        "id": "QyeT_Dibwdb8"
      },
      "outputs": [],
      "source": [
        "# We add a new URI so that we can easily distinguish this new materialized inferences\n",
        "mi = Namespace('http://example.org/MaterializeInference/')\n",
        "rdf_graph.bind('mi', 'http://example.org/MaterializeInference/')"
      ]
    },
    {
      "cell_type": "markdown",
      "id": "jwAGpNNCsJU3",
      "metadata": {
        "id": "jwAGpNNCsJU3"
      },
      "source": [
        "A simple way to add new inferences is using the RDFS and OWL2 vocabulary with some property of the relations and property of the classes, for example we will use: `rdfs:subClassOf` and `rdfs:subPropertyOf`\n",
        "      \n",
        "      # ------------------------------------------------- #\n",
        "      |                      SCHEMA                       |\n",
        "      # ------------------------------------------------- #\n",
        "      ```\n",
        "      dbp:hometown rdfs:subPropertyOf mi:foundingCity.\n",
        "      dbo:birthPlace rdfs:subPropertyOf mi:cityOfBirth.\n",
        "      dbp:hometown rdfs:subPropertyOf mi:bornIn.\n",
        "      dbo:birthPlace rdfs:subPropertyOf mi:bornIn.\n",
        "      dbo:country rdfs:subPropertyOf mi:bornIn.\n",
        "      mi:bornIn rdf:type owl:TransitiveProperty.\n",
        "      mi:subgenre rdfs:subPropertyOf mi:genre.\n",
        "      ```\n",
        "I can easily materialize the inferences that are derived from those property using the RDFS_OWL2 reasoner\n",
        "`owlrl.DeductiveClosure(owlrl.RDFS_OWLRL_Semantics).expand(rdf_graph)`"
      ]
    },
    {
      "cell_type": "markdown",
      "id": "H9FEDmgFOiFA",
      "metadata": {
        "id": "H9FEDmgFOiFA"
      },
      "source": [
        "First I add this triples and then I apply the RDFS_OWLRL Reasoner"
      ]
    },
    {
      "cell_type": "code",
      "execution_count": null,
      "id": "dECT4K_tOhCk",
      "metadata": {
        "id": "dECT4K_tOhCk"
      },
      "outputs": [],
      "source": [
        "schema = (\n",
        "    (dbp.hometown, RDFS.subPropertyOf, mi.foundingCity),\n",
        "    (dbo.birthPlace, RDFS.subPropertyOf, mi.cityOfBirth),\n",
        "    (dbp.hometown, RDFS.subPropertyOf, mi.bornIn),\n",
        "    (dbo.birthPlace, RDFS.subPropertyOf, mi.bornIn),\n",
        "    (dbo.country, RDFS.subPropertyOf, mi.bornIn),\n",
        "    (mi.bornIn, RDF.type, OWL.TransitiveProperty),\n",
        "    (mi.subgenre, RDFS.subPropertyOf, mi.genre)\n",
        ")\n",
        "\n",
        "for triple in schema:\n",
        "    rdf_graph.add(triple)\n",
        "\n",
        "# domain and range, subClassOf and subPropertyOf, OWL features\n",
        "owlrl.DeductiveClosure(owlrl.RDFS_OWLRL_Semantics).expand(rdf_graph)"
      ]
    },
    {
      "cell_type": "code",
      "execution_count": null,
      "id": "5McX5-iIyxP9",
      "metadata": {
        "colab": {
          "base_uri": "https://localhost:8080/"
        },
        "id": "5McX5-iIyxP9",
        "outputId": "8c8bc534-751f-4c01-befb-ad0d5064c503"
      },
      "outputs": [
        {
          "data": {
            "text/plain": [
              "<Graph identifier=N0a918b8fdb9c4ed4a302d72692d05e57 (<class 'rdflib.graph.Graph'>)>"
            ]
          },
          "execution_count": 58,
          "metadata": {},
          "output_type": "execute_result"
        }
      ],
      "source": [
        "# SAVE ON DISK\n",
        "rdf_graph.serialize(destination=\"./data/graph_09.ttl\")"
      ]
    },
    {
      "cell_type": "code",
      "execution_count": null,
      "id": "ed33b5de",
      "metadata": {
        "id": "ed33b5de"
      },
      "outputs": [],
      "source": [
        "# Load the graph of the previous stage, without having to redo everything\n",
        "rdf_graph = Graph().parse(\"./data/graph_09.ttl\")\n",
        "\n",
        "df = Namespace('http://example.org/DataFrame/')\n",
        "dbp = Namespace('http://dbpedia.org/property/')\n",
        "dbo = Namespace('http://dbpedia.org/ontology/')\n",
        "dbr = Namespace('http://dbpedia.org/resource/')\n",
        "wiki = Namespace('http://example.org/WikipediaApi/')\n",
        "rdf_graph.bind('df', 'http://example.org/DataFrame/')\n",
        "rdf_graph.bind('dbp', 'http://dbpedia.org/property/')\n",
        "rdf_graph.bind('dbo', 'http://dbpedia.org/ontology/')\n",
        "rdf_graph.bind('dbr', 'http://dbpedia.org/resource/')\n",
        "rdf_graph.bind('wiki', 'http://example.org/WikipediaApi/')\n"
      ]
    },
    {
      "cell_type": "markdown",
      "id": "jk89xSctoieZ",
      "metadata": {
        "id": "jk89xSctoieZ"
      },
      "source": [
        "I apply this entailment pattern"
      ]
    },
    {
      "cell_type": "code",
      "execution_count": null,
      "id": "xMivieg3qaU5",
      "metadata": {
        "id": "xMivieg3qaU5"
      },
      "outputs": [],
      "source": [
        "# if I have that [album] rdf:type [genre1] and [genre1] rdfs:subClassOf [genre2], add the triple [album] rdf:type [genre2]\n",
        "query = \"\"\"\n",
        "    INSERT { ?album rdf:type ?genre2 }\n",
        "    WHERE {\n",
        "        ?album rdf:type ?genre1.\n",
        "        ?genre1 rdfs:subClassOf ?genre2.\n",
        "        ?genre1 a df:Genre.\n",
        "        ?genre2 a df:Subgenre.\n",
        "    }\n",
        "\"\"\"\n",
        "rdf_graph.update(query)\n",
        "\n",
        "\n",
        "# mi:foundingCountry :- dbp:hometown / dbo:country\n",
        "query = \"\"\"\n",
        "    INSERT { ?band mi:foundingCountry ?country }\n",
        "    WHERE { ?band dbp:hometown / dbo:country ?country }\n",
        "\"\"\"\n",
        "rdf_graph.update(query)\n",
        "\n",
        "\n",
        "# mi:countryOfBirth :- dbo:birthPlace / dbo:country\n",
        "query = \"\"\"\n",
        "    INSERT { ?member mi:countryOfBirth ?country }\n",
        "    WHERE { ?member dbo:birthPlace / dbo:country ?country }\n",
        "\"\"\"\n",
        "rdf_graph.update(query)\n",
        "\n",
        "\n",
        "# mi:genre, genre of the artist inferred through the genre of the album\n",
        "query = \"\"\"\n",
        "    INSERT { ?artist mi:genre ?genre }\n",
        "    WHERE { ?album df:genre ?genre; df:artist ?artist }\n",
        "\"\"\"\n",
        "rdf_graph.update(query)\n",
        "\n",
        "\n",
        "# mi:subgenre, subgenre of the artist inferred through the subgenre of the album\n",
        "query = \"\"\"\n",
        "    INSERT { ?artist mi:subgenre ?subgenre }\n",
        "    WHERE { ?album df:subgenre ?subgenre; df:artist ?artist }\n",
        "\"\"\"\n",
        "rdf_graph.update(query)\n"
      ]
    },
    {
      "cell_type": "code",
      "execution_count": null,
      "id": "G0x-3EUoZ68p",
      "metadata": {
        "colab": {
          "base_uri": "https://localhost:8080/"
        },
        "id": "G0x-3EUoZ68p",
        "outputId": "609a7ac6-3d0a-4388-9843-ae4ce1ee6c90"
      },
      "outputs": [
        {
          "data": {
            "text/plain": [
              "<Graph identifier=N9ebf5091361647f8817d4a8cd7991c9b (<class 'rdflib.graph.Graph'>)>"
            ]
          },
          "execution_count": 65,
          "metadata": {},
          "output_type": "execute_result"
        }
      ],
      "source": [
        "# SAVE ON DISK\n",
        "rdf_graph.serialize(destination=\"./data/graph_10.ttl\")"
      ]
    },
    {
      "cell_type": "code",
      "execution_count": null,
      "id": "KBmSqQNTjQdG",
      "metadata": {
        "colab": {
          "base_uri": "https://localhost:8080/"
        },
        "id": "KBmSqQNTjQdG",
        "outputId": "caf0a32d-a006-4f20-942c-fe0caf7c0a25"
      },
      "outputs": [
        {
          "data": {
            "text/plain": [
              "<Graph identifier=N9ebf5091361647f8817d4a8cd7991c9b (<class 'rdflib.graph.Graph'>)>"
            ]
          },
          "execution_count": 66,
          "metadata": {},
          "output_type": "execute_result"
        }
      ],
      "source": [
        "# rerun the owl2 rl + rdfs reasoner for the new inferences\n",
        "owlrl.DeductiveClosure(owlrl.RDFS_OWLRL_Semantics).expand(rdf_graph)\n",
        "\n",
        "# SAVE ON DISK\n",
        "rdf_graph.serialize(destination=\"./data/graph_11.ttl\")"
      ]
    },
    {
      "cell_type": "markdown",
      "id": "pmY-CKYJC4D1",
      "metadata": {
        "id": "pmY-CKYJC4D1"
      },
      "source": [
        "## **`6. Query the Graph`**"
      ]
    },
    {
      "cell_type": "markdown",
      "id": "954faa3c-172c-4bb8-8127-d90d2cb65906",
      "metadata": {
        "id": "954faa3c-172c-4bb8-8127-d90d2cb65906"
      },
      "source": [
        "Query my graph in a way that:\n",
        "- the usefulness of having added information from dbpedia is highlighted\n",
        "- inference is exploited\n",
        "\n",
        "\n",
        "| ID | Query | Intention/insight |\n",
        "|----|------|-------------------|\n",
        "| 1  | Which are the artist with many bands? | to spot session musicians, long-career artists, 'eclectic' artists |\n",
        "| 2  | Which is the city with more bands in absolute? | maybe to discover an influential city. |\n",
        "| 3  | Which is the city with more bands in absolute that plays [ Grunge ]( https://en.wikipedia.org/wiki/Grunge )? | maybe to discover a music scene in a particular city. |\n",
        "| 4  | Give me some band/artist from the same city of Jonny_Greenwood | could be a way to find similar musical artists. |\n",
        "| 5  | which are the bands with Brazilian and American members? | maybe because I love both the Brazilian and American sound and I hope there is something that matches both? |\n",
        "| 6  | what are the albums with the highest average rating according to Rate Your Music | check if my initial data in the dataframes are well maintained in the graph |\n",
        "\n"
      ]
    },
    {
      "cell_type": "code",
      "execution_count": null,
      "id": "a9f37816",
      "metadata": {
        "id": "a9f37816"
      },
      "outputs": [],
      "source": [
        "# Load the graph of the previous stage, without having to redo everything\n",
        "rdf_graph = Graph().parse(\"./data/graph_11.ttl\")\n",
        "\n",
        "df = Namespace('http://example.org/DataFrame/')\n",
        "dbp = Namespace('http://dbpedia.org/property/')\n",
        "dbo = Namespace('http://dbpedia.org/ontology/')\n",
        "dbr = Namespace('http://dbpedia.org/resource/')\n",
        "wiki = Namespace('http://example.org/WikipediaApi/')\n",
        "mi = Namespace('http://example.org/MaterializeInference/')\n",
        "rdf_graph.bind('df', 'http://example.org/DataFrame/')\n",
        "rdf_graph.bind('dbp', 'http://dbpedia.org/property/')\n",
        "rdf_graph.bind('dbo', 'http://dbpedia.org/ontology/')\n",
        "rdf_graph.bind('dbr', 'http://dbpedia.org/resource/')\n",
        "rdf_graph.bind('wiki', 'http://example.org/WikipediaApi/')\n",
        "rdf_graph.bind('mi', 'http://example.org/MaterializeInference/')"
      ]
    },
    {
      "cell_type": "code",
      "execution_count": null,
      "id": "53cb4f00",
      "metadata": {
        "id": "53cb4f00",
        "outputId": "f6209c38-cb41-48bb-be84-ec6bb2bc02b1"
      },
      "outputs": [
        {
          "name": "stdout",
          "output_type": "stream",
          "text": [
            "Artists with many bands:\n",
            "The artist http://dbpedia.org/resource/Joey_Vera is/was part of 6 bands\n",
            "The artist http://dbpedia.org/resource/Madlib is/was part of 4 bands\n",
            "The artist http://dbpedia.org/resource/Jason_Tait is/was part of 4 bands\n",
            "The artist http://dbpedia.org/resource/Neil_Finn is/was part of 4 bands\n",
            "The artist http://dbpedia.org/resource/Manfred_Mann_(musician) is/was part of 4 bands\n",
            "The artist http://dbpedia.org/resource/Jukka_Koskinen is/was part of 4 bands\n",
            "The artist http://dbpedia.org/resource/Kai_Hahto is/was part of 4 bands\n",
            "The artist http://dbpedia.org/resource/Mattias_Bärjed is/was part of 4 bands\n",
            "The artist http://dbpedia.org/resource/Tommy_Karevik is/was part of 4 bands\n",
            "The artist http://dbpedia.org/resource/Ishmael_Butler is/was part of 4 bands\n"
          ]
        }
      ],
      "source": [
        "# 1 Which are the artist with many bands?\n",
        "query = \"\"\"\n",
        "    SELECT ?artist (COUNT(?band) AS ?numBands)\n",
        "    WHERE {\n",
        "        ?band dbo:bandMember ?artist.\n",
        "    } GROUP BY ?artist ORDER BY DESC(?numBands)\n",
        "\"\"\"\n",
        "results = rdf_graph.query(query)\n",
        "\n",
        "print('Artists with many bands:')\n",
        "count = 0\n",
        "for res in results:\n",
        "    # Print some example of dbr URI\n",
        "    if \"http://dbpedia.org/resource\" in res['artist']:\n",
        "        print(f\"The artist {res['artist']} is/was part of {res['numBands']} bands\")\n",
        "        count += 1\n",
        "        if count == 10:\n",
        "            break"
      ]
    },
    {
      "cell_type": "code",
      "execution_count": null,
      "id": "246a88b7",
      "metadata": {
        "id": "246a88b7",
        "outputId": "cfdb2fa1-4a16-406c-890d-391c114a5f4e"
      },
      "outputs": [
        {
          "name": "stdout",
          "output_type": "stream",
          "text": [
            "The city with the most bands in absolute is:\n",
            "http://dbpedia.org/resource/London, with 84 bands\n"
          ]
        }
      ],
      "source": [
        "# 2 Which is the city with more bands in absolute?\n",
        "query = \"\"\"\n",
        "    SELECT  ?city (COUNT(?band) AS ?numBands)\n",
        "    WHERE {\n",
        "    ?band mi:foundingCity ?city.\n",
        "    } GROUP BY ?city ORDER BY DESC(?numBands)\n",
        "\"\"\"\n",
        "results = rdf_graph.query(query)\n",
        "\n",
        "\n",
        "print('The city with the most bands in absolute is:')\n",
        "for res in results:\n",
        "    print(f\"{res['city']}, with {res['numBands']} bands\")\n",
        "    break\n"
      ]
    },
    {
      "cell_type": "code",
      "execution_count": null,
      "id": "6e0606bd",
      "metadata": {
        "id": "6e0606bd",
        "outputId": "1dbaa4a3-f612-4d6f-d07a-7ac4a275cc39"
      },
      "outputs": [
        {
          "name": "stdout",
          "output_type": "stream",
          "text": [
            "The city with the most bands that plays Grunge in absolute is:\n",
            "http://dbpedia.org/resource/Seattle, with 8 bands\n"
          ]
        }
      ],
      "source": [
        "# 3 What is the city with the most bands playing the Grunge genre ?\n",
        "query = \"\"\"\n",
        "    SELECT  ?city (COUNT(?band) AS ?numBands)\n",
        "    WHERE {\n",
        "    ?band mi:foundingCity ?city;\n",
        "          mi:genre df:Grunge.\n",
        "    } GROUP BY ?city ORDER BY DESC(?numBands)\n",
        "\"\"\"\n",
        "results = rdf_graph.query(query)\n",
        "\n",
        "\n",
        "print('The city with the most bands that plays Grunge in absolute is:')\n",
        "for res in results:\n",
        "    print(f\"{res['city']}, with {res['numBands']} bands\")\n",
        "    break\n"
      ]
    },
    {
      "cell_type": "code",
      "execution_count": null,
      "id": "5a9b2366",
      "metadata": {
        "id": "5a9b2366",
        "outputId": "fced59c8-42c5-45fd-fcf7-ab2fd9408be1"
      },
      "outputs": [
        {
          "name": "stdout",
          "output_type": "stream",
          "text": [
            "Some band/artist from the same city of Jonny_Greenwood:\n",
            "http://dbpedia.org/resource/Colin_Greenwood\n",
            "http://dbpedia.org/resource/Ed_O'Brien\n",
            "http://dbpedia.org/resource/Gaz_Coombes\n",
            "http://dbpedia.org/resource/Rob_Coombes\n"
          ]
        }
      ],
      "source": [
        "# 4 Give me some band/artist from the same city of Jonny_Greenwood\n",
        "query = \"\"\"\n",
        "    SELECT  ?artist\n",
        "    WHERE {\n",
        "    ?artist  mi:cityOfBirth ?city.\n",
        "    dbr:Jonny_Greenwood  mi:cityOfBirth ?city.\n",
        "    FILTER (?artist != dbr:Jonny_Greenwood)\n",
        "    }\n",
        "\"\"\"\n",
        "results = rdf_graph.query(query)\n",
        "\n",
        "\n",
        "print('Some band/artist from the same city of Jonny_Greenwood:')\n",
        "for res in results:\n",
        "    # Print some example of dbr URI\n",
        "    if (\"http://dbpedia.org/resource\" in res['artist'] ):\n",
        "        print(res['artist'] )"
      ]
    },
    {
      "cell_type": "code",
      "execution_count": null,
      "id": "b34b817f",
      "metadata": {
        "id": "b34b817f",
        "outputId": "e5a678c0-0a0a-4a46-86fa-216226b066b7"
      },
      "outputs": [
        {
          "name": "stdout",
          "output_type": "stream",
          "text": [
            "Bands with Brazilian and American members:\n",
            "http://dbpedia.org/resource/The_Strokes\n",
            "http://dbpedia.org/resource/Megadeth\n",
            "http://dbpedia.org/resource/Sepultura\n"
          ]
        }
      ],
      "source": [
        "# 5 which are the bands with Brazilian and American members?\n",
        "query = \"\"\"\n",
        "    SELECT DISTINCT ?band\n",
        "    WHERE {\n",
        "    ?band dbo:bandMember ?member1, ?member2.\n",
        "    ?member1 mi:countryOfBirth dbr:Brazil.\n",
        "    ?member2 mi:countryOfBirth dbr:United_States.\n",
        "    }\n",
        "\"\"\"\n",
        "results = rdf_graph.query(query)\n",
        "\n",
        "print('Bands with Brazilian and American members:')\n",
        "count = 0\n",
        "for res in results:\n",
        "    # Print some example of dbr URI\n",
        "    if \"http://dbpedia.org/resource\" in res['band']:\n",
        "        print(res['band'] )\n",
        "        count += 1\n",
        "        if count == 10:\n",
        "            break\n"
      ]
    },
    {
      "cell_type": "code",
      "execution_count": null,
      "id": "4ab45fd1",
      "metadata": {
        "id": "4ab45fd1",
        "outputId": "1a7ed7fd-41e3-44fe-ea91-7c4fc90961e0"
      },
      "outputs": [
        {
          "name": "stdout",
          "output_type": "stream",
          "text": [
            "The albums with the highest average rating according to Rate Your Music are the following:\n",
            "http://dbpedia.org/resource/The_Black_Saint_and_the_Sinner_Lady\n",
            "http://dbpedia.org/resource/A_Love_Supreme\n",
            "http://dbpedia.org/resource/In_the_Court_of_the_Crimson_King\n",
            "http://dbpedia.org/resource/To_Pimp_a_Butterfly\n",
            "http://dbpedia.org/resource/Madvillainy\n",
            "http://dbpedia.org/resource/Abbey_Road\n",
            "http://dbpedia.org/resource/Remain_in_Light\n"
          ]
        }
      ],
      "source": [
        "# 6 what are the albums with the highest average rating according to \"Best albums of all time\" of Rate Your Music\n",
        "query = \"\"\"\n",
        "    SELECT DISTINCT ?album\n",
        "    WHERE {\n",
        "        ?album df:averageRating ?averageRating\n",
        "    } ORDER BY DESC(?averageRating) LIMIT 50\n",
        "\"\"\"\n",
        "results = rdf_graph.query(query)\n",
        "\n",
        "print('The albums with the highest average rating according to Rate Your Music are the following:')\n",
        "for res in results:\n",
        "    if \"http://dbpedia.org/resource\" in res['album']:\n",
        "        print(res['album'] )\n",
        "        count += 1\n",
        "        if count == 10:\n",
        "            break"
      ]
    },
    {
      "cell_type": "markdown",
      "id": "w3RWLLOEHlvj",
      "metadata": {
        "id": "w3RWLLOEHlvj"
      },
      "source": [
        "**Thanks for the attention!**\n",
        "\n",
        "Alessandro Ghiotto"
      ]
    }
  ],
  "metadata": {
    "colab": {
      "provenance": [],
      "toc_visible": true
    },
    "ipub": {
      "titlepage": {
        "author": "Authors Name",
        "email": "authors@email.com",
        "institution": [
          "Institution1",
          "Institution2"
        ],
        "subtitle": "Sub-Title",
        "supervisors": [
          "First Supervisor",
          "Second Supervisor"
        ],
        "tagline": "A tagline for the report.",
        "title": "Main-Title"
      }
    },
    "kernelspec": {
      "display_name": "Python 3 (ipykernel)",
      "language": "python",
      "name": "python3"
    },
    "language_info": {
      "codemirror_mode": {
        "name": "ipython",
        "version": 3
      },
      "file_extension": ".py",
      "mimetype": "text/x-python",
      "name": "python",
      "nbconvert_exporter": "python",
      "pygments_lexer": "ipython3",
      "version": "3.9.7"
    }
  },
  "nbformat": 4,
  "nbformat_minor": 5
}